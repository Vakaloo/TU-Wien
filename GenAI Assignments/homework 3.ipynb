{
 "cells": [
  {
   "cell_type": "markdown",
   "id": "509c0f17-d4ed-4ba5-ad22-051c2f65a40c",
   "metadata": {
    "deletable": false,
    "editable": false,
    "nbgrader": {
     "cell_type": "markdown",
     "checksum": "06b538572d801560aaab721e9d69a147",
     "grade": false,
     "grade_id": "cell-267985a665e1c0fc",
     "locked": true,
     "schema_version": 3,
     "solution": false,
     "task": false
    }
   },
   "source": [
    "### 2023.11.23 - Introduction to Transformers Continued | Homework 3\n",
    "Proximal Policy Optimization (PPO) is a type of policy gradient method for reinforcement learning that was used in the final training stage of GPT. In this homework, you will implement a highly simplified version of the PPO algorithm to get a foundational understanding of its mechanics. The aim is to outline the whole concept with mostly static components, to give you a birds eye view of how it works.\n",
    "\n",
    "The endresult is a model that learned that the reward model prefers positive words over negative ones.\n",
    "\n",
    "We know that there is quite a long path between this excercise and the real world application of PPO. However, since this is an introductory lecture and due to the vast diversity of the audience we will noo go into more depth.\n",
    "In case you are interested in diving deeper into the realm of reinforcement learning and PPO, checkout the following resources:\n",
    "- [OpenAI Spinning Up](https://spinningup.openai.com/en/latest/spinningup/rl_intro.html)\n",
    "- [Lilian Weng Policy Gradient Algorithms](https://lilianweng.github.io/posts/2018-04-08-policy-gradient/)\n",
    "- [Proximal Policy Optimization (PPO): The Key to LLM Alignment](https://cameronrwolfe.substack.com/p/proximal-policy-optimization-ppo)\n",
    "\n",
    "Base your code on the following skeleton code that we provide.\n",
    "\n",
    "We tried to explain our simplifications as much as possible, to help you on the one hand understand the high level concept and on the other are able to connect it to real world implementation details."
   ]
  },
  {
   "cell_type": "code",
   "execution_count": 1,
   "id": "9cc2c33f-9531-47f7-b1f9-cb0b572e4c21",
   "metadata": {
    "deletable": false,
    "editable": false,
    "nbgrader": {
     "cell_type": "code",
     "checksum": "51d6139e1ed8a7da0e901753a424a270",
     "grade": false,
     "grade_id": "cell-522d304faa8d9ab1",
     "locked": true,
     "schema_version": 3,
     "solution": false,
     "task": false
    }
   },
   "outputs": [
    {
     "name": "stdout",
     "output_type": "stream",
     "text": [
      "Collecting matplotlib\n",
      "  Using cached matplotlib-3.8.2-cp311-cp311-manylinux_2_17_x86_64.manylinux2014_x86_64.whl.metadata (5.8 kB)\n",
      "Collecting contourpy>=1.0.1 (from matplotlib)\n",
      "  Using cached contourpy-1.2.0-cp311-cp311-manylinux_2_17_x86_64.manylinux2014_x86_64.whl.metadata (5.8 kB)\n",
      "Collecting cycler>=0.10 (from matplotlib)\n",
      "  Using cached cycler-0.12.1-py3-none-any.whl.metadata (3.8 kB)\n",
      "Collecting fonttools>=4.22.0 (from matplotlib)\n",
      "  Using cached fonttools-4.45.1-cp311-cp311-manylinux_2_17_x86_64.manylinux2014_x86_64.whl.metadata (155 kB)\n",
      "Collecting kiwisolver>=1.3.1 (from matplotlib)\n",
      "  Using cached kiwisolver-1.4.5-cp311-cp311-manylinux_2_17_x86_64.manylinux2014_x86_64.whl.metadata (6.4 kB)\n",
      "Requirement already satisfied: numpy<2,>=1.21 in /opt/conda/envs/pytorch/lib/python3.11/site-packages (from matplotlib) (1.26.0)\n",
      "Requirement already satisfied: packaging>=20.0 in /opt/conda/envs/pytorch/lib/python3.11/site-packages (from matplotlib) (23.2)\n",
      "Requirement already satisfied: pillow>=8 in /opt/conda/envs/pytorch/lib/python3.11/site-packages (from matplotlib) (9.4.0)\n",
      "Collecting pyparsing>=2.3.1 (from matplotlib)\n",
      "  Using cached pyparsing-3.1.1-py3-none-any.whl.metadata (5.1 kB)\n",
      "Requirement already satisfied: python-dateutil>=2.7 in /opt/conda/envs/pytorch/lib/python3.11/site-packages (from matplotlib) (2.8.2)\n",
      "Requirement already satisfied: six>=1.5 in /opt/conda/envs/pytorch/lib/python3.11/site-packages (from python-dateutil>=2.7->matplotlib) (1.16.0)\n",
      "Using cached matplotlib-3.8.2-cp311-cp311-manylinux_2_17_x86_64.manylinux2014_x86_64.whl (11.6 MB)\n",
      "Using cached contourpy-1.2.0-cp311-cp311-manylinux_2_17_x86_64.manylinux2014_x86_64.whl (313 kB)\n",
      "Using cached cycler-0.12.1-py3-none-any.whl (8.3 kB)\n",
      "Using cached fonttools-4.45.1-cp311-cp311-manylinux_2_17_x86_64.manylinux2014_x86_64.whl (4.9 MB)\n",
      "Using cached kiwisolver-1.4.5-cp311-cp311-manylinux_2_17_x86_64.manylinux2014_x86_64.whl (1.4 MB)\n",
      "Using cached pyparsing-3.1.1-py3-none-any.whl (103 kB)\n",
      "Installing collected packages: pyparsing, kiwisolver, fonttools, cycler, contourpy, matplotlib\n",
      "Successfully installed contourpy-1.2.0 cycler-0.12.1 fonttools-4.45.1 kiwisolver-1.4.5 matplotlib-3.8.2 pyparsing-3.1.1\n",
      "Collecting scipy\n",
      "  Using cached scipy-1.11.4-cp311-cp311-manylinux_2_17_x86_64.manylinux2014_x86_64.whl.metadata (60 kB)\n",
      "Requirement already satisfied: numpy<1.28.0,>=1.21.6 in /opt/conda/envs/pytorch/lib/python3.11/site-packages (from scipy) (1.26.0)\n",
      "Using cached scipy-1.11.4-cp311-cp311-manylinux_2_17_x86_64.manylinux2014_x86_64.whl (36.4 MB)\n",
      "Installing collected packages: scipy\n",
      "Successfully installed scipy-1.11.4\n"
     ]
    }
   ],
   "source": [
    "!/opt/conda/envs/pytorch/bin/python -m pip install matplotlib\n",
    "!/opt/conda/envs/pytorch/bin/python -m pip install scipy"
   ]
  },
  {
   "cell_type": "code",
   "execution_count": 132,
   "id": "a0adf224-4ae9-4c80-ac08-eef81e15c0a2",
   "metadata": {
    "deletable": false,
    "editable": false,
    "nbgrader": {
     "cell_type": "code",
     "checksum": "948b4b89dadab0eb3644add0149ab94e",
     "grade": false,
     "grade_id": "cell-43355d385dc9e5be",
     "locked": true,
     "schema_version": 3,
     "solution": false,
     "task": false
    }
   },
   "outputs": [],
   "source": [
    "import torch\n",
    "from torch import nn, optim\n",
    "import random\n",
    "import matplotlib.pyplot as plt\n",
    "from scipy.signal import medfilt"
   ]
  },
  {
   "cell_type": "code",
   "execution_count": 133,
   "id": "ef7039f2-5e07-4244-b4a8-8519eccb59c2",
   "metadata": {
    "deletable": false,
    "nbgrader": {
     "cell_type": "code",
     "checksum": "aaf4ece49165a0c7a0aa8bee4fa497e1",
     "grade": false,
     "grade_id": "cell-06efc9158754dc0c",
     "locked": false,
     "schema_version": 3,
     "solution": true,
     "task": false
    },
    "revert": "# Import any additional dependencies\n# In case you don't need any, just remove the error raise below\n# YOUR CODE HERE\nraise NotImplementedError()"
   },
   "outputs": [],
   "source": [
    "# Import any additional dependencies\n",
    "# In case you don't need any, just remove the error raise below\n",
    "# YOUR CODE HERE\n",
    "# raise NotImplementedError()\n",
    "import torch.nn.functional as F"
   ]
  },
  {
   "cell_type": "markdown",
   "id": "1b33d927-f046-42b0-876b-9cb92c77e98b",
   "metadata": {
    "deletable": false,
    "editable": false,
    "nbgrader": {
     "cell_type": "markdown",
     "checksum": "15d44dc6a3bba8cc4c7ce220fec31a11",
     "grade": false,
     "grade_id": "cell-de9cffe775bc2e38",
     "locked": true,
     "schema_version": 3,
     "solution": false,
     "task": false
    }
   },
   "source": [
    "##### Agent and Policy:\n",
    "In RLHF for LLMs, the agent is the pre-trained language model itself. The policy is represented by the model's forward function. In our case instead of using a full language model we will use a simple Multilayer perceptron (MLP) that in the end should predict positive words more likeyl than negative words, independently of the input."
   ]
  },
  {
   "cell_type": "code",
   "execution_count": 134,
   "id": "ba3795bd-32e4-4c47-b6c4-528138113d73",
   "metadata": {
    "deletable": false,
    "editable": false,
    "nbgrader": {
     "cell_type": "code",
     "checksum": "a1eaf4977d3768c2da215c517472db05",
     "grade": false,
     "grade_id": "cell-79285d5e9e07d630",
     "locked": true,
     "schema_version": 3,
     "solution": false,
     "task": false
    }
   },
   "outputs": [],
   "source": [
    "# Define the list of words and their corresponding \"positivity\" score\n",
    "word_scores = {\"happy\": 1, \"joyful\": 1, \"pleasant\": 1, \"sad\": -1, \"angry\": -1, \"unpleasant\": -1}\n",
    "words = list(word_scores.keys())\n",
    "positive_words = set({k:v for k,v in word_scores.items() if v == 1}.keys())"
   ]
  },
  {
   "cell_type": "code",
   "execution_count": 135,
   "id": "94238105-2806-467f-8069-886328106fe6",
   "metadata": {
    "deletable": false,
    "nbgrader": {
     "cell_type": "code",
     "checksum": "c595b049df78e8c9491770063741c068",
     "grade": false,
     "grade_id": "cell-997d9dbb45839c25",
     "locked": false,
     "schema_version": 3,
     "solution": true,
     "task": false
    },
    "revert": "class Agent(nn.Module):\n    \"\"\"\n    The Agent class represents a simplified version of a policy model used in Proximal Policy Optimization (PPO) that operates as\n    a basic language model. The model is a Multilayer Perceptron (MLP) designed to predict the likelihood of positive words\n    over negative ones, regardless of the input.\n\n    Example:\n        # Example instantiation and forward pass\n        agent = Agent(num_words)\n        input_data = torch.tensor([...])  # Some one-hot encoded input data\n        output = agent(input_data)\n    \"\"\"\n    # A simple MLP with 2 linear layers and a ReLU activation in between\n    def __init__(self, num_words):\n        super(Agent, self).__init__()\n        \"\"\"\n        TODO: Define the architecture of the MLP: Decide on the number of layers, units in each layer, and activation functions.\n        Hint: You can start as simple as 2 linear layers of low dimension (e.g. 128) with a simple ReLU activation function in between. (nn.Linear, torch.relu)\n        \"\"\"\n        # YOUR CODE HERE\n        raise NotImplementedError()\n\n    def forward(self, x):\n        \"\"\"\n        TODO: Implement the forward pass: Define how the input data flows through the network to produce output.\n        The output should be a probability distribution over words. (Hint: you might want to use torch.softmax for that)\n        \"\"\"\n        # YOUR CODE HERE\n        raise NotImplementedError()"
   },
   "outputs": [],
   "source": [
    "class Agent(nn.Module):\n",
    "    \"\"\"\n",
    "    The Agent class represents a simplified version of a policy model used in Proximal Policy Optimization (PPO) that operates as\n",
    "    a basic language model. The model is a Multilayer Perceptron (MLP) designed to predict the likelihood of positive words\n",
    "    over negative ones, regardless of the input.\n",
    "\n",
    "    Example:\n",
    "        # Example instantiation and forward pass\n",
    "        agent = Agent(num_words)\n",
    "        input_data = torch.tensor([...])  # Some one-hot encoded input data\n",
    "        output = agent(input_data)\n",
    "    \"\"\"\n",
    "    # A simple MLP with 2 linear layers and a ReLU activation in between\n",
    "    def __init__(self, num_words):\n",
    "        super(Agent, self).__init__()\n",
    "        \"\"\"\n",
    "        TODO: Define the architecture of the MLP: Decide on the number of layers, units in each layer, and activation functions.\n",
    "        Hint: You can start as simple as 2 linear layers of low dimension (e.g. 128) with a simple ReLU activation function in between. (nn.Linear, torch.relu)\n",
    "        \"\"\"\n",
    "        # YOUR CODE HERE\n",
    "        # raise NotImplementedError()\n",
    "\n",
    "        self.fc1 = nn.Linear(num_words, 128)\n",
    "        self.relu = nn.ReLU()\n",
    "        self.fc2 = nn.Linear(128, 64)\n",
    "        self.relu = nn.ReLU()\n",
    "        self.fc3 = nn.Linear(64, 32)\n",
    "        self.relu = nn.ReLU()\n",
    "        self.fc4 = nn.Linear(32, 16)\n",
    "        self.relu = nn.ReLU()\n",
    "        self.fc5 = nn.Linear(16, 8)\n",
    "        self.relu = nn.ReLU()\n",
    "        self.fc6 = nn.Linear(8, num_words)\n",
    "\n",
    "    def forward(self, x):\n",
    "        \"\"\"\n",
    "        TODO: Implement the forward pass: Define how the input data flows through the network to produce output.\n",
    "        The output should be a probability distribution over words. (Hint: you might want to use torch.softmax for that)\n",
    "        \"\"\"\n",
    "        # YOUR CODE HERE\n",
    "        # raise NotImplementedError()\n",
    "        x = self.fc1(x)\n",
    "        x = self.relu(x)\n",
    "        x = self.fc2(x)\n",
    "        x = self.relu(x)\n",
    "        x = self.fc3(x)\n",
    "        x = self.relu(x)\n",
    "        x = self.fc4(x)\n",
    "        x = self.relu(x)\n",
    "        x = self.fc5(x)\n",
    "        x = self.relu(x)\n",
    "        x = self.fc6(x)\n",
    "        \n",
    "        return F.softmax(x, dim=-1)"
   ]
  },
  {
   "cell_type": "markdown",
   "id": "7a70c47a-45f5-46e4-8f3e-9ca0203e6f17",
   "metadata": {
    "deletable": false,
    "editable": false,
    "nbgrader": {
     "cell_type": "markdown",
     "checksum": "6c64c7eb1c7a9a82785c22d076528bf3",
     "grade": false,
     "grade_id": "cell-68c614eb12123ea6",
     "locked": true,
     "schema_version": 3,
     "solution": false,
     "task": false
    }
   },
   "source": [
    "##### Value Function/Critic/Reward Model\n",
    "The critic is a separate model or mechanism that evaluates the quality of the outputs generated by the agent.\n",
    "In the context of RLHF, this could be a model trained to predict human preferences or judgments regarding the quality or appropriateness of the model's responses.\n",
    "\n",
    "In our case we just return the predefined positivy score for a given word."
   ]
  },
  {
   "cell_type": "code",
   "execution_count": 136,
   "id": "7f5c2d1e-318f-4554-90b3-5ec84623e09b",
   "metadata": {
    "deletable": false,
    "editable": false,
    "nbgrader": {
     "cell_type": "code",
     "checksum": "40baf2eaf2c96ba2e3ef22c2c8dadb0b",
     "grade": false,
     "grade_id": "cell-f64bfd2e3900bcbc",
     "locked": true,
     "schema_version": 3,
     "solution": false,
     "task": false
    }
   },
   "outputs": [],
   "source": [
    "class Critic:\n",
    "    \"\"\"\n",
    "    A simple static model that simply uses our word_score lookup table to \"judge\" a given input.\n",
    "    In real scenarios, critics can be complex models trained to evaluate text based on various criteria like coherence, grammar,\n",
    "    and alignment with human preferences.\n",
    "    \"\"\"\n",
    "    def __init__(self):\n",
    "        super(Critic, self).__init__()\n",
    "\n",
    "    def forward(self, word):\n",
    "        return torch.tensor([word_scores.get(word, 0)])\n",
    "\n",
    "    def __call__(self, input):\n",
    "        return self.forward(input)"
   ]
  },
  {
   "cell_type": "markdown",
   "id": "d55b3865-64d2-4f7b-a8cf-45f0a3e9cd98",
   "metadata": {
    "deletable": false,
    "editable": false,
    "nbgrader": {
     "cell_type": "markdown",
     "checksum": "2b2a4220c2937b5f0449233128f4c1ee",
     "grade": false,
     "grade_id": "cell-efce4c011fd3299f",
     "locked": true,
     "schema_version": 3,
     "solution": false,
     "task": false
    }
   },
   "source": [
    "##### Baseline\n",
    "\n",
    "The primary purpose of using a baseline is to reduce the variance of the gradient estimate without biasing it. In policy gradient methods, the goal is to maximize the expected reward. However, the gradient of this expectation can have high variance, leading to inefficient learning. By subtracting a baseline from the reward, the variance of the gradient can be significantly reduced, which typically results in more stable and efficient learning."
   ]
  },
  {
   "cell_type": "code",
   "execution_count": 137,
   "id": "269864ed-e897-41c6-bd62-a3ec2ea1d962",
   "metadata": {
    "deletable": false,
    "nbgrader": {
     "cell_type": "code",
     "checksum": "3b2fabf2cdd8ba1389ce8e847a9187ff",
     "grade": false,
     "grade_id": "cell-58ef68d22a2462d6",
     "locked": false,
     "schema_version": 3,
     "solution": true,
     "task": false
    },
    "revert": "class Baseline:\n    \"\"\"\n    The Baseline class in this exercise represents a mechanism to calculate and update a baseline value used \n    in the Proximal Policy Optimization (PPO) algorithm. The baseline is utilized to reduce the variance in the\n    policy gradient estimation, leading to more stable and efficient learning.\n\n    In this exercise, you will implement and use the Baseline class to compute an average score.\n    \n    Example:\n        # Example of updating and getting the baseline\n        baseline = Baseline()\n        baseline.update(new_score=1.0)\n        current_baseline = baseline.get()\n    \"\"\"\n    def __init__(self):\n        self.total_score = 0.0\n        self.count = 0\n\n    def update(self, new_score):\n        # TODO: Implement the update method: Update the total score and count based on the new score received after each action.\n        # YOUR CODE HERE\n        raise NotImplementedError()\n\n    def get(self):\n        # TODO: Implement the get method: Calculate and return the current average score (baseline).\n        # YOUR CODE HERE\n        raise NotImplementedError()"
   },
   "outputs": [],
   "source": [
    "class Baseline:\n",
    "    \"\"\"\n",
    "    The Baseline class in this exercise represents a mechanism to calculate and update a baseline value used \n",
    "    in the Proximal Policy Optimization (PPO) algorithm. The baseline is utilized to reduce the variance in the\n",
    "    policy gradient estimation, leading to more stable and efficient learning.\n",
    "\n",
    "    In this exercise, you will implement and use the Baseline class to compute an average score.\n",
    "    \n",
    "    Example:\n",
    "        # Example of updating and getting the baseline\n",
    "        baseline = Baseline()\n",
    "        baseline.update(new_score=1.0)\n",
    "        current_baseline = baseline.get()\n",
    "    \"\"\"\n",
    "    def __init__(self):\n",
    "        self.total_score = 0.0\n",
    "        self.count = 0\n",
    "\n",
    "    def update(self, new_score):\n",
    "        # TODO: Implement the update method: Update the total score and count based on the new score received after each action.\n",
    "        # YOUR CODE HERE\n",
    "        # raise NotImplementedError()\n",
    "        self.total_score += new_score\n",
    "        self.count += 1\n",
    "        \n",
    "    def get(self):\n",
    "        # TODO: Implement the get method: Calculate and return the current average score (baseline).\n",
    "        # YOUR CODE HERE\n",
    "        # raise NotImplementedError()\n",
    "        return(self.total_score/max(1, self.count))"
   ]
  },
  {
   "cell_type": "markdown",
   "id": "48f7e449-df27-4a25-b484-2b6515162170",
   "metadata": {
    "deletable": false,
    "editable": false,
    "nbgrader": {
     "cell_type": "markdown",
     "checksum": "1ffa88483e2070a070d81007da17fccb",
     "grade": false,
     "grade_id": "cell-c28734ae5517eb04",
     "locked": true,
     "schema_version": 3,
     "solution": false,
     "task": false
    }
   },
   "source": [
    "##### Training Loop"
   ]
  },
  {
   "cell_type": "code",
   "execution_count": 138,
   "id": "4ee60a40-5be2-4fb9-8745-554fe7306f7b",
   "metadata": {
    "deletable": false,
    "nbgrader": {
     "cell_type": "code",
     "checksum": "a0fc998143c611516c7b3139d4930836",
     "grade": false,
     "grade_id": "cell-1bd20945674a0d85",
     "locked": false,
     "schema_version": 3,
     "solution": true,
     "task": false
    },
    "revert": "def train(agent, critic, optim, epsilon=0.01, iter=100):\n    \"\"\"\n    This function represents the training loop where the Proximal Policy Optimization (PPO) algorithm is applied\n    to train the Agent. The function takes the agent, critic, and optimizer as inputs and performs iterative training.\n\n    The loop involves selecting actions (words), evaluating them, and updating the agent's policy based on the calculated loss.\n\n\n    Parameters:\n        agent (Agent): The policy model (MLP) being trained.\n        critic (Critic): The model used to evaluate the quality of actions.\n        optimizer (torch.optim): The optimizer used for updating the agent.\n        epsilon (float): The probability of choosing a random action (exploration).\n        iter (int): The number of training iterations.\n\n    Returns:\n        tuple: A tuple containing the loss and positive word count metrics over training iterations.\n\n    Example:\n        # Example training call\n        agent = Agent(len(words))\n        critic = Critic()\n        optimizer = optim.Adam(agent.parameters(), lr=3e-4)\n        losses, positive_word_counts = train(agent, critic, optimizer)\n    \"\"\"\n    \n    # Training Metrics\n    losses = []\n    positive_word_counts = []\n    total_positive_words = 0\n\n    onehot_encorder = torch.eye(len(words))\n    \n    for i in range(iter):\n        # In our case our \"environment\" is just the random selection of a word\n        random_idx = random.randint(0, len(words) - 1)\n        input = onehot_encorder[random_idx]\n        \n        agent_output = agent(input)        \n\n        # TODO: Implement the logic for choosing actions based on exploration or exploitation.\n        # Hint: You might want to decide between choosing a random word_index as a suggestions vs using something like torch.agrmax\n        # on the agents output. (e.g. if random.random() < epsilon: choose random word else choose based on probability distribution\n        \n        # Important this section should assign a value to the var \"word_index\"\n        # YOUR CODE HERE\n        raise NotImplementedError()\n\n        chosen_word = words[word_index] # chosen word (=the suggested action)\n\n        # TODO: calculate the critic_score score\n        # YOUR CODE HERE\n        raise NotImplementedError()\n        \n        # TODO: update the baseline using the critic_score\n        # YOUR CODE HERE\n        raise NotImplementedError()\n        \n        # TODO: calculate the advantage as the difference between the critic_score and the baseline\n        # YOUR CODE HERE\n        raise NotImplementedError()\n        \n        # TODO: Calculate loss as the negative log of the probability of the chosen_word multiplied by the advantage\n        # YOUR CODE HERE\n        raise NotImplementedError()\n        \n        # Update the agent\n        optimizer.zero_grad()\n        loss.backward()\n        optimizer.step()\n    \n        # Record and compute moving average of the loss\n        losses.append(loss.item())\n        \n        if chosen_word in positive_words:\n            total_positive_words += 1\n        positive_word_counts.append(total_positive_words / (i + 1))\n    \n        if i % 1 == 0:\n            print(f\"Iteration {i}, Loss: {loss.item()}, Generated Word: {chosen_word}\")\n\n    return losses, positive_word_counts"
   },
   "outputs": [],
   "source": [
    "def train(agent, critic, optim, epsilon=0.01, iter=100):\n",
    "    \"\"\"\n",
    "    This function represents the training loop where the Proximal Policy Optimization (PPO) algorithm is applied\n",
    "    to train the Agent. The function takes the agent, critic, and optimizer as inputs and performs iterative training.\n",
    "\n",
    "    The loop involves selecting actions (words), evaluating them, and updating the agent's policy based on the calculated loss.\n",
    "\n",
    "\n",
    "    Parameters:\n",
    "        agent (Agent): The policy model (MLP) being trained.\n",
    "        critic (Critic): The model used to evaluate the quality of actions.\n",
    "        optimizer (torch.optim): The optimizer used for updating the agent.\n",
    "        epsilon (float): The probability of choosing a random action (exploration).\n",
    "        iter (int): The number of training iterations.\n",
    "\n",
    "    Returns:\n",
    "        tuple: A tuple containing the loss and positive word count metrics over training iterations.\n",
    "\n",
    "    Example:\n",
    "        # Example training call\n",
    "        agent = Agent(len(words))\n",
    "        critic = Critic()\n",
    "        optimizer = optim.Adam(agent.parameters(), lr=3e-4)\n",
    "        losses, positive_word_counts = train(agent, critic, optimizer)\n",
    "    \"\"\"\n",
    "    \n",
    "    # Training Metrics\n",
    "    losses = []\n",
    "    positive_word_counts = []\n",
    "    total_positive_words = 0\n",
    "\n",
    "    onehot_encorder = torch.eye(len(words))\n",
    "    \n",
    "    for i in range(iter):\n",
    "        # In our case our \"environment\" is just the random selection of a word\n",
    "        random_idx = random.randint(0, len(words) - 1)\n",
    "        input = onehot_encorder[random_idx]\n",
    "\n",
    "        agent_output = agent(input)   \n",
    "\n",
    "        # TODO: Implement the logic for choosing actions based on exploration or exploitation.\n",
    "        # Hint: You might want to decide between choosing a random word_index as a suggestions vs using something like torch.agrmax\n",
    "        # on the agents output. (e.g. if random.random() < epsilon: choose random word else choose based on probability distribution\n",
    "        \n",
    "        # Important this section should assign a value to the var \"word_index\"\n",
    "        # YOUR CODE HERE\n",
    "        # raise NotImplementedError()\n",
    "        if random.random() < epsilon:\n",
    "            word_index = random.randint(0, len(words) - 1)\n",
    "        else:\n",
    "            word_index = torch.argmax(agent_output).item()\n",
    "\n",
    "\n",
    "        chosen_word = words[word_index] # chosen word (=the suggested action)\n",
    "\n",
    "        # TODO: calculate the critic_score score\n",
    "        # YOUR CODE HERE\n",
    "        # raise NotImplementedError()\n",
    "        critic_score = critic(chosen_word)\n",
    "\n",
    "        # TODO: update the baseline using the critic_score\n",
    "        # YOUR CODE HERE\n",
    "        baseline.update(critic_score.item())\n",
    "\n",
    "        # TODO: calculate the advantage as the difference between the critic_score and the baseline\n",
    "        # YOUR CODE HERE\n",
    "        advantage = critic_score - baseline.get()\n",
    "\n",
    "        # TODO: Calculate loss as the negative log of the probability of the chosen_word multiplied by the advantage\n",
    "        # YOUR CODE HERE\n",
    "        loss = -torch.log(agent_output[word_index]) * advantage\n",
    "\n",
    "        \n",
    "        # Update the agent\n",
    "        optimizer.zero_grad()\n",
    "        loss.backward()\n",
    "        optimizer.step()\n",
    "    \n",
    "        # Record and compute moving average of the loss\n",
    "        losses.append(loss.item())\n",
    "        \n",
    "        if chosen_word in positive_words:\n",
    "            total_positive_words += 1\n",
    "        positive_word_counts.append(total_positive_words / (i + 1))\n",
    "    \n",
    "        if i % 1 == 0:\n",
    "            print(f\"Iteration {i}, Loss: {loss.item()}, Generated Word: {chosen_word}\")\n",
    "\n",
    "    return losses, positive_word_counts"
   ]
  },
  {
   "cell_type": "markdown",
   "id": "7a15a247-2a1e-4e8f-b40b-5c0f45e99eba",
   "metadata": {
    "deletable": false,
    "editable": false,
    "nbgrader": {
     "cell_type": "markdown",
     "checksum": "1c3d86d2c5e11cdbd8a8aaa0e2347248",
     "grade": false,
     "grade_id": "cell-22e6f651d81c0abb",
     "locked": true,
     "schema_version": 3,
     "solution": false,
     "task": false
    }
   },
   "source": [
    "#### Run Exercise 1\n",
    "Run this cell to evaluate your implementation."
   ]
  },
  {
   "cell_type": "code",
   "execution_count": 145,
   "id": "a0d43ae0-95d5-4ddf-8d3a-924a7a590b11",
   "metadata": {
    "deletable": false,
    "editable": false,
    "nbgrader": {
     "cell_type": "code",
     "checksum": "e898319e89b2cef656e27c076efabae2",
     "grade": true,
     "grade_id": "cell-27d3d26c24c08fe1",
     "locked": true,
     "points": 0.75,
     "schema_version": 3,
     "solution": false,
     "task": false
    }
   },
   "outputs": [
    {
     "name": "stdout",
     "output_type": "stream",
     "text": [
      "Iteration 0, Loss: 0.0, Generated Word: pleasant\n",
      "Iteration 1, Loss: 0.0, Generated Word: pleasant\n",
      "Iteration 2, Loss: 0.0, Generated Word: pleasant\n",
      "Iteration 3, Loss: 0.0, Generated Word: pleasant\n",
      "Iteration 4, Loss: 0.0, Generated Word: pleasant\n",
      "Iteration 5, Loss: 0.0, Generated Word: pleasant\n",
      "Iteration 6, Loss: 0.0, Generated Word: pleasant\n",
      "Iteration 7, Loss: 0.0, Generated Word: pleasant\n",
      "Iteration 8, Loss: 0.0, Generated Word: pleasant\n",
      "Iteration 9, Loss: 0.0, Generated Word: pleasant\n",
      "Iteration 10, Loss: 0.0, Generated Word: pleasant\n",
      "Iteration 11, Loss: 0.0, Generated Word: pleasant\n",
      "Iteration 12, Loss: 0.0, Generated Word: pleasant\n",
      "Iteration 13, Loss: 0.0, Generated Word: pleasant\n",
      "Iteration 14, Loss: 0.0, Generated Word: pleasant\n",
      "Iteration 15, Loss: 0.0, Generated Word: pleasant\n",
      "Iteration 16, Loss: 0.0, Generated Word: pleasant\n",
      "Iteration 17, Loss: 0.0, Generated Word: pleasant\n",
      "Iteration 18, Loss: 0.0, Generated Word: pleasant\n",
      "Iteration 19, Loss: 0.0, Generated Word: pleasant\n",
      "Iteration 20, Loss: 0.0, Generated Word: pleasant\n",
      "Iteration 21, Loss: 0.0, Generated Word: pleasant\n",
      "Iteration 22, Loss: 0.0, Generated Word: pleasant\n",
      "Iteration 23, Loss: 0.0, Generated Word: pleasant\n",
      "Iteration 24, Loss: 0.0, Generated Word: pleasant\n",
      "Iteration 25, Loss: 0.0, Generated Word: pleasant\n",
      "Iteration 26, Loss: 0.0, Generated Word: pleasant\n",
      "Iteration 27, Loss: 0.0, Generated Word: pleasant\n",
      "Iteration 28, Loss: 0.0, Generated Word: pleasant\n",
      "Iteration 29, Loss: 0.0, Generated Word: pleasant\n",
      "Iteration 30, Loss: 0.0, Generated Word: pleasant\n",
      "Iteration 31, Loss: 0.0, Generated Word: pleasant\n",
      "Iteration 32, Loss: 0.0, Generated Word: pleasant\n",
      "Iteration 33, Loss: 0.0, Generated Word: pleasant\n",
      "Iteration 34, Loss: 0.0, Generated Word: pleasant\n",
      "Iteration 35, Loss: 0.0, Generated Word: pleasant\n",
      "Iteration 36, Loss: 0.0, Generated Word: pleasant\n",
      "Iteration 37, Loss: 0.0, Generated Word: pleasant\n",
      "Iteration 38, Loss: 0.0, Generated Word: pleasant\n",
      "Iteration 39, Loss: 0.0, Generated Word: pleasant\n",
      "Iteration 40, Loss: 0.0, Generated Word: pleasant\n",
      "Iteration 41, Loss: 0.0, Generated Word: pleasant\n",
      "Iteration 42, Loss: 0.0, Generated Word: pleasant\n",
      "Iteration 43, Loss: 0.0, Generated Word: pleasant\n",
      "Iteration 44, Loss: 0.0, Generated Word: pleasant\n",
      "Iteration 45, Loss: 0.0, Generated Word: pleasant\n",
      "Iteration 46, Loss: 0.0, Generated Word: pleasant\n",
      "Iteration 47, Loss: 0.0, Generated Word: pleasant\n",
      "Iteration 48, Loss: 0.0, Generated Word: pleasant\n",
      "Iteration 49, Loss: 0.0, Generated Word: pleasant\n",
      "Iteration 50, Loss: 0.0, Generated Word: pleasant\n",
      "Iteration 51, Loss: -4.125119686126709, Generated Word: unpleasant\n",
      "Iteration 52, Loss: 0.055702824145555496, Generated Word: pleasant\n",
      "Iteration 53, Loss: 0.054663896560668945, Generated Word: pleasant\n",
      "Iteration 54, Loss: 0.05365167185664177, Generated Word: pleasant\n",
      "Iteration 55, Loss: 0.052718766033649445, Generated Word: pleasant\n",
      "Iteration 56, Loss: 0.05177474766969681, Generated Word: pleasant\n",
      "Iteration 57, Loss: 0.05088014155626297, Generated Word: pleasant\n",
      "Iteration 58, Loss: 0.05000746250152588, Generated Word: pleasant\n",
      "Iteration 59, Loss: 0.049216076731681824, Generated Word: pleasant\n",
      "Iteration 60, Loss: 0.048331066966056824, Generated Word: pleasant\n",
      "Iteration 61, Loss: 0.0475446954369545, Generated Word: pleasant\n",
      "Iteration 62, Loss: 0.04676651209592819, Generated Word: pleasant\n",
      "Iteration 63, Loss: 0.046009793877601624, Generated Word: pleasant\n",
      "Iteration 64, Loss: 0.04540272057056427, Generated Word: pleasant\n",
      "Iteration 65, Loss: 0.0447043813765049, Generated Word: pleasant\n",
      "Iteration 66, Loss: 0.04388754814863205, Generated Word: pleasant\n",
      "Iteration 67, Loss: 0.043450962752103806, Generated Word: pleasant\n",
      "Iteration 68, Loss: 0.04256651923060417, Generated Word: pleasant\n",
      "Iteration 69, Loss: 0.04209700971841812, Generated Word: pleasant\n",
      "Iteration 70, Loss: 0.04138059914112091, Generated Word: pleasant\n",
      "Iteration 71, Loss: 0.04089291766285896, Generated Word: pleasant\n",
      "Iteration 72, Loss: 0.040133263915777206, Generated Word: pleasant\n",
      "Iteration 73, Loss: 0.039727091789245605, Generated Word: pleasant\n",
      "Iteration 74, Loss: 0.03920973464846611, Generated Word: pleasant\n",
      "Iteration 75, Loss: 0.03867437690496445, Generated Word: pleasant\n",
      "Iteration 76, Loss: 0.03815042972564697, Generated Word: pleasant\n",
      "Iteration 77, Loss: 0.03754756599664688, Generated Word: pleasant\n",
      "Iteration 78, Loss: 0.037078700959682465, Generated Word: pleasant\n",
      "Iteration 79, Loss: 0.03665243089199066, Generated Word: pleasant\n",
      "Iteration 80, Loss: 0.03617539256811142, Generated Word: pleasant\n",
      "Iteration 81, Loss: 0.0354987233877182, Generated Word: pleasant\n",
      "Iteration 82, Loss: 0.03525412082672119, Generated Word: pleasant\n",
      "Iteration 83, Loss: 0.03459339961409569, Generated Word: pleasant\n",
      "Iteration 84, Loss: 0.03437388315796852, Generated Word: pleasant\n",
      "Iteration 85, Loss: 0.03383840620517731, Generated Word: pleasant\n",
      "Iteration 86, Loss: 0.03342728316783905, Generated Word: pleasant\n",
      "Iteration 87, Loss: 0.03308374807238579, Generated Word: pleasant\n",
      "Iteration 88, Loss: 0.032605718821287155, Generated Word: pleasant\n",
      "Iteration 89, Loss: 0.032324548810720444, Generated Word: pleasant\n",
      "Iteration 90, Loss: 0.03195292502641678, Generated Word: pleasant\n",
      "Iteration 91, Loss: 0.03157257288694382, Generated Word: pleasant\n",
      "Iteration 92, Loss: 0.031056728214025497, Generated Word: pleasant\n",
      "Iteration 93, Loss: 0.03084738180041313, Generated Word: pleasant\n",
      "Iteration 94, Loss: 0.030478140339255333, Generated Word: pleasant\n",
      "Iteration 95, Loss: 0.030140871182084084, Generated Word: pleasant\n",
      "Iteration 96, Loss: 0.029559984803199768, Generated Word: pleasant\n",
      "Iteration 97, Loss: 0.02922089956700802, Generated Word: pleasant\n",
      "Iteration 98, Loss: 0.02912510558962822, Generated Word: pleasant\n",
      "Iteration 99, Loss: -4.102245807647705, Generated Word: unpleasant\n"
     ]
    }
   ],
   "source": [
    "\"\"\"\n",
    "Expected Outcome:\n",
    "Iteration 0, Loss: 0.0, Generated Word: angry\n",
    "Iteration 1, Loss: 2.910965919494629, Generated Word: pleasant\n",
    "...\n",
    "Note: The losses as well as the generated word will obviously be different.\n",
    "However you should see that the number of positive words is increasing over time.\n",
    "\n",
    "!! Important !! : With low model complexity and random weights initalizaion the model might get stuck\n",
    "and produce a constant result with 0 loss. Just rerun this cell.\n",
    "\"\"\"\n",
    "agent = Agent(len(words))\n",
    "critic = Critic()\n",
    "\n",
    "baseline = Baseline()\n",
    "optimizer = optim.Adam(agent.parameters(), lr=3e-4)\n",
    "\n",
    "losses, positive_word_counts = train(agent, critic, optimizer)"
   ]
  },
  {
   "cell_type": "code",
   "execution_count": 146,
   "id": "4bf7f350-1cb7-413f-a28c-12a4cc18246f",
   "metadata": {
    "deletable": false,
    "editable": false,
    "nbgrader": {
     "cell_type": "code",
     "checksum": "bf88f91c8aa4831c36768c120929dd6f",
     "grade": true,
     "grade_id": "cell-e9204aa0edec6c4f",
     "locked": true,
     "points": 0.25,
     "schema_version": 3,
     "solution": false,
     "task": false
    }
   },
   "outputs": [
    {
     "data": {
      "image/png": "[encoded data removed]",
      "text/plain": [
       "<Figure size 1800x600 with 3 Axes>"
      ]
     },
     "metadata": {},
     "output_type": "display_data"
    }
   ],
   "source": [
    "\"\"\"\n",
    "Expected Outcome:\n",
    "You should see 3 figures, the first two should show a declining slop, the third one should look more like a log function.\n",
    "\"\"\"\n",
    "filtered_loss = medfilt(losses, kernel_size=5)\n",
    "\n",
    "# Plot the filtered loss\n",
    "plt.figure(figsize=(18, 6))\n",
    "plt.subplot(1, 3, 1)\n",
    "plt.plot(losses)\n",
    "plt.title(\"Raw Loss over Time\")\n",
    "plt.xlabel(\"Epoch\")\n",
    "plt.ylabel(\"Filtered Loss\")\n",
    "\n",
    "plt.subplot(1, 3, 2)\n",
    "plt.plot(filtered_loss)\n",
    "plt.title(\"Loss over Time\")\n",
    "plt.xlabel(\"Epoch\")\n",
    "plt.ylabel(\"Filtered Loss\")\n",
    "\n",
    "# Plotting the frequency of choosing positive words\n",
    "plt.subplot(1, 3, 3)\n",
    "plt.plot(positive_word_counts)\n",
    "plt.title(\"Frequency of Choosing Positive Words\")\n",
    "plt.xlabel(\"Epoch\")\n",
    "plt.ylabel(\"Frequency\")\n",
    "\n",
    "plt.tight_layout()\n",
    "plt.show()"
   ]
  },
  {
   "cell_type": "code",
   "execution_count": null,
   "id": "8666efcd-5929-43a8-aca8-3cc86788d975",
   "metadata": {},
   "outputs": [],
   "source": []
  },
  {
   "cell_type": "code",
   "execution_count": null,
   "id": "a087ad45-2bb9-466f-a05a-e6ed2b7ad51e",
   "metadata": {},
   "outputs": [],
   "source": []
  }
 ],
 "metadata": {
  "kernelspec": {
   "display_name": "Python 3 (ipykernel)",
   "language": "python",
   "name": "python3"
  },
  "language_info": {
   "codemirror_mode": {
    "name": "ipython",
    "version": 3
   },
   "file_extension": ".py",
   "mimetype": "text/x-python",
   "name": "python",
   "nbconvert_exporter": "python",
   "pygments_lexer": "ipython3",
   "version": "3.10.12"
  }
 },
 "nbformat": 4,
 "nbformat_minor": 5
}
