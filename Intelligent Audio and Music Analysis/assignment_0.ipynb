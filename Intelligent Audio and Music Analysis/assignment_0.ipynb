{
 "cells": [
  {
   "cell_type": "markdown",
   "metadata": {
    "deletable": false,
    "editable": false,
    "nbgrader": {
     "cell_type": "markdown",
     "checksum": "dff6ed10e94740d13d3fcf728765ecea",
     "grade": false,
     "grade_id": "cell-2e8dabd8897e1fea",
     "locked": true,
     "schema_version": 3,
     "solution": false,
     "task": false
    },
    "slideshow": {
     "slide_type": ""
    },
    "tags": []
   },
   "source": [
    "Before you turn this assignment in, make sure everything runs as expected. First, **restart the kernel** (in the menubar, select Kernel$\\rightarrow$Restart) and then **run all cells** (in the menubar, select Cell$\\rightarrow$Run All).\n",
    "\n",
    "Make sure you fill in any place that says \"YOUR ANSWER HERE\" or `YOUR CODE HERE` and remove the `raise NotImplementedError()` lines. \n",
    "\n",
    "Code blocks starting with a `# tests` comment provide unit tests which have to run without errors in order to get full points. Be aware that there might be further 'secret' tests to check correct implementation! I.e. the provided unit tests are necessary but not sufficient for full points!\n",
    "\n",
    "You are always welcome to add **additional plots, tests, or debug outputs**.\n",
    "However, make sure to: **1) not break the automated tests**, and **2) switch off any excessive debug output** when you submit your notebook!\n",
    "\n",
    "Please add your name and student ID below:"
   ]
  },
  {
   "cell_type": "code",
   "execution_count": 2,
   "metadata": {
    "deletable": false,
    "editable": true,
    "nbgrader": {
     "cell_type": "code",
     "checksum": "42bf76f4fa999d9c402aa6b2fae4b4d7",
     "grade": false,
     "grade_id": "cell-bc6886da45bcfc76",
     "locked": false,
     "schema_version": 3,
     "solution": true,
     "task": false
    },
    "revert": "NAME = \"\" \nSTUDENT_ID = \"\" \n# YOUR CODE HERE\nraise NotImplementedError()",
    "slideshow": {
     "slide_type": ""
    },
    "tags": []
   },
   "outputs": [],
   "source": [
    "NAME = \"Konstantinos Vakalopoulos\" \n",
    "STUDENT_ID = \"12223236\" \n",
    "# YOUR CODE HERE\n",
    "# raise NotImplementedError()"
   ]
  },
  {
   "cell_type": "code",
   "execution_count": 3,
   "metadata": {
    "deletable": false,
    "editable": false,
    "nbgrader": {
     "cell_type": "code",
     "checksum": "9f7fdc89f976fb4ac999a0ede1705805",
     "grade": true,
     "grade_id": "name_and_id_test",
     "locked": true,
     "points": 0,
     "schema_version": 3,
     "solution": false,
     "task": false
    },
    "slideshow": {
     "slide_type": ""
    },
    "tags": []
   },
   "outputs": [],
   "source": [
    "assert len(NAME) > 0, \"Enter your name!\"\n",
    "assert len(STUDENT_ID) > 0, \"Enter your student ID!\""
   ]
  },
  {
   "cell_type": "markdown",
   "metadata": {
    "deletable": false,
    "editable": false,
    "nbgrader": {
     "cell_type": "markdown",
     "checksum": "dae60725e5447025bdd84aa559a6511a",
     "grade": false,
     "grade_id": "cell-881bbc22e95e7602",
     "locked": true,
     "schema_version": 3,
     "solution": false,
     "task": false
    },
    "slideshow": {
     "slide_type": ""
    },
    "tags": []
   },
   "source": [
    "\n",
    "# Intelligent Audio and Music Analysis Assignment 0\n",
    "\n",
    "The main purpose of this assignment is to get you familiarized with the infrastructure and workflow.  \n",
    "\n",
    "## Task 1: Import numpy\n",
    "\n",
    "Load the python math library [numpy](https://numpy.org/doc/stable/) into namespace variable `np`."
   ]
  },
  {
   "cell_type": "code",
   "execution_count": 4,
   "metadata": {
    "deletable": false,
    "editable": true,
    "nbgrader": {
     "cell_type": "code",
     "checksum": "b0bfab21108417a5ddd1d3a48a5a37ca",
     "grade": false,
     "grade_id": "import_numpy",
     "locked": false,
     "schema_version": 3,
     "solution": true,
     "task": false
    },
    "revert": "# load the python math library numpy into a local namespace variable called \"np\"\n# this is achieved using the import <lib> as <name> syntax\n\n# YOUR CODE HERE\nraise NotImplementedError()",
    "slideshow": {
     "slide_type": ""
    },
    "tags": []
   },
   "outputs": [],
   "source": [
    "# load the python math library numpy into a local namespace variable called \"np\"\n",
    "# this is achieved using the import <lib> as <name> syntax\n",
    "# YOUR CODE HERE\n",
    "import numpy as np"
   ]
  },
  {
   "cell_type": "code",
   "execution_count": 5,
   "metadata": {
    "deletable": false,
    "editable": false,
    "nbgrader": {
     "cell_type": "code",
     "checksum": "7cf075d4ad49da6f96552a113cf1d9fb",
     "grade": true,
     "grade_id": "import_numpy_test",
     "locked": true,
     "points": 1,
     "schema_version": 3,
     "solution": false,
     "task": false
    }
   },
   "outputs": [
    {
     "name": "stdout",
     "output_type": "stream",
     "text": [
      "All tests successful!\n"
     ]
    }
   ],
   "source": [
    "# test if numpy has been loaded successfully\n",
    "\n",
    "np.version.version\n",
    "print('All tests successful!')"
   ]
  },
  {
   "cell_type": "markdown",
   "metadata": {
    "deletable": false,
    "editable": false,
    "nbgrader": {
     "cell_type": "markdown",
     "checksum": "1531aee27b08cbe6a0da8c6ac092d5be",
     "grade": false,
     "grade_id": "cell-4d05f58f0aa443fa",
     "locked": true,
     "schema_version": 3,
     "solution": false,
     "task": false
    }
   },
   "source": [
    "## Task 2: Create a Matrix\n",
    "\n",
    "Create a matrix ([ndarray](https://numpy.org/doc/stable/reference/generated/numpy.ndarray.html)) `x` of random numbers \n",
    "with size 4x4."
   ]
  },
  {
   "cell_type": "code",
   "execution_count": 12,
   "metadata": {
    "deletable": false,
    "nbgrader": {
     "cell_type": "code",
     "checksum": "8adcedf4a8e98c6e950ad9cdc5393f41",
     "grade": false,
     "grade_id": "rand_x",
     "locked": false,
     "schema_version": 3,
     "solution": true,
     "task": false
    },
    "revert": "# numpy has a module called \"random\", use the rand function. \n# See documentation at: \n# https://numpy.org/doc/stable/reference/random/generated/numpy.random.rand.html\n\n# YOUR CODE HERE\nraise NotImplementedError()\n\nprint(\"x = {}\".format(x))"
   },
   "outputs": [
    {
     "name": "stdout",
     "output_type": "stream",
     "text": [
      "x = [[0.60401524 0.51029294 0.74465668 0.53505097]\n",
      " [0.26602286 0.64578061 0.31781944 0.65441859]\n",
      " [0.74613021 0.78059703 0.69286132 0.5116467 ]\n",
      " [0.74767905 0.87145249 0.221681   0.29565113]]\n"
     ]
    }
   ],
   "source": [
    "# numpy has a module called \"random\", use the rand function. \n",
    "# See documentation at: \n",
    "# https://numpy.org/doc/stable/reference/random/generated/numpy.random.rand.html\n",
    "\n",
    "# YOUR CODE HERE\n",
    "from numpy import random\n",
    "x = random.rand(4,4)\n",
    "\n",
    "print(\"x = {}\".format(x))"
   ]
  },
  {
   "cell_type": "code",
   "execution_count": 13,
   "metadata": {
    "deletable": false,
    "editable": false,
    "nbgrader": {
     "cell_type": "code",
     "checksum": "d3d9629e841d7c270bce135ab4974229",
     "grade": true,
     "grade_id": "rand_x_test",
     "locked": true,
     "points": 1,
     "schema_version": 3,
     "solution": false,
     "task": false
    }
   },
   "outputs": [
    {
     "name": "stdout",
     "output_type": "stream",
     "text": [
      "All tests successful!\n"
     ]
    }
   ],
   "source": [
    "# test x for properties:\n",
    "\n",
    "assert x.shape == (4, 4)\n",
    "assert all([0 <= ex <= 1 for ex in x.flatten()])\n",
    "print('All tests successful!')"
   ]
  },
  {
   "cell_type": "code",
   "execution_count": 14,
   "metadata": {
    "deletable": false,
    "editable": false,
    "nbgrader": {
     "cell_type": "code",
     "checksum": "84344a279881d4341fe2f14eeb139d97",
     "grade": true,
     "grade_id": "rand_x_test_exc",
     "locked": true,
     "points": 1,
     "schema_version": 3,
     "solution": false,
     "task": false
    }
   },
   "outputs": [
    {
     "name": "stdout",
     "output_type": "stream",
     "text": [
      "All tests successful!\n"
     ]
    }
   ],
   "source": [
    "# test for exception: \n",
    "\n",
    "try:\n",
    "    x[10, 10]\n",
    "except IndexError:\n",
    "    pass\n",
    "else:       \n",
    "    raise AssertionError('did not raise ValueError')\n",
    "print('All tests successful!')"
   ]
  },
  {
   "cell_type": "markdown",
   "metadata": {
    "deletable": false,
    "editable": false,
    "nbgrader": {
     "cell_type": "markdown",
     "checksum": "3bfb3c91d15d39aec7ba9c03860b9bd9",
     "grade": false,
     "grade_id": "cell-d03a143fb8635f5c",
     "locked": true,
     "schema_version": 3,
     "solution": false,
     "task": false
    }
   },
   "source": [
    "## Task 3: Elementwise Matrix Operations\n",
    "Calculate the *elementwise* square of `x` into a new variable named `y`."
   ]
  },
  {
   "cell_type": "code",
   "execution_count": 18,
   "metadata": {
    "deletable": false,
    "nbgrader": {
     "cell_type": "code",
     "checksum": "b40a94e87e0c72f5cae8e10291511a40",
     "grade": false,
     "grade_id": "x_mult",
     "locked": false,
     "schema_version": 3,
     "solution": true,
     "task": false
    },
    "revert": "# Arrays can be used as matrices, thus we can choose between matrix multiplication and elementwise multiplication.\n# https://numpy.org/doc/stable/reference/generated/numpy.matmul.html\n# https://numpy.org/doc/stable/reference/generated/numpy.multiply.html\n\n# YOUR CODE HERE\nraise NotImplementedError()"
   },
   "outputs": [],
   "source": [
    "# Arrays can be used as matrices, thus we can choose between matrix multiplication and elementwise multiplication.\n",
    "# https://numpy.org/doc/stable/reference/generated/numpy.matmul.html\n",
    "# https://numpy.org/doc/stable/reference/generated/numpy.multiply.html\n",
    "\n",
    "# YOUR CODE HERE\n",
    "y = np.square(x)"
   ]
  },
  {
   "cell_type": "code",
   "execution_count": 19,
   "metadata": {
    "deletable": false,
    "editable": false,
    "nbgrader": {
     "cell_type": "code",
     "checksum": "4263685e227eb43b7c298dafac3f2b78",
     "grade": true,
     "grade_id": "x_mult_test",
     "locked": true,
     "points": 1,
     "schema_version": 3,
     "solution": false,
     "task": false
    }
   },
   "outputs": [
    {
     "name": "stdout",
     "output_type": "stream",
     "text": [
      "All tests successful!\n"
     ]
    }
   ],
   "source": [
    "# Test shape of y\n",
    "# Note: for full points, values of y must also be correct.\n",
    "\n",
    "assert y.shape == (4, 4)\n",
    "\n",
    "print('All tests successful!')"
   ]
  },
  {
   "cell_type": "markdown",
   "metadata": {
    "revert": "## Congratulations, you are done!\n\nReminder:\nBefore you turn this assignment in, make sure everything runs as expected. First, **restart the kernel** (in the menubar, select Kernel$\\rightarrow$Restart) and then **run all cells** (in the menubar, select Cell$\\rightarrow$Run All)."
   },
   "source": [
    "## Congratulations, you are done!\n",
    "\n",
    "Reminder:\n",
    "Before you turn this assignment in, make sure everything runs as expected. First, **restart the kernel** (in the menubar, select Kernel$\\rightarrow$Restart) and then **run all cells** (in the menubar, select Cell$\\rightarrow$Run All)."
   ]
  }
 ],
 "metadata": {
  "kernelspec": {
   "display_name": "Python 3 (ipykernel)",
   "language": "python",
   "name": "python3"
  },
  "language_info": {
   "codemirror_mode": {
    "name": "ipython",
    "version": 3
   },
   "file_extension": ".py",
   "mimetype": "text/x-python",
   "name": "python",
   "nbconvert_exporter": "python",
   "pygments_lexer": "ipython3",
   "version": "3.10.12"
  }
 },
 "nbformat": 4,
 "nbformat_minor": 4
}
