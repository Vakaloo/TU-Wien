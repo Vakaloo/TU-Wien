{
 "cells": [
  {
   "cell_type": "markdown",
   "metadata": {
    "deletable": false,
    "editable": false,
    "nbgrader": {
     "cell_type": "markdown",
     "checksum": "fc408101c7eae25dbf6de67e8bb85098",
     "grade": false,
     "grade_id": "cell-2e8dabd8897e1fea",
     "locked": true,
     "schema_version": 3,
     "solution": false,
     "task": false
    },
    "slideshow": {
     "slide_type": ""
    },
    "tags": []
   },
   "source": [
    "Before you turn this assignment in, make sure everything runs as expected. First, **restart the kernel** (in the menubar, select Kernel$\\rightarrow$Restart) and then **run all cells** (in the menubar, select Cell$\\rightarrow$Run All).\n",
    "\n",
    "Make sure you fill in any place that says \"YOUR ANSWER HERE\" or `YOUR CODE HERE` and remove the `raise NotImplementedError()` lines. \n",
    "\n",
    "Code blocks starting with a `# tests` comment provide unit tests which have to run without errors in order to get full points. Be aware that there might be further 'secret' tests to check correct implementation! I.e. the provided unit tests are necessary but not sufficient for full points!\n",
    "\n",
    "You are always welcome to add **additional plots, tests, or debug outputs**.\n",
    "However, make sure to: **1) not break the automated tests**, and **2) switch off any excessive debug output** when you submit your notebook!\n",
    "Note that there is a **hard limit of 720s for execution time** of individual cells when autograding!\n",
    "\n",
    "Please add your name and student ID below:"
   ]
  },
  {
   "cell_type": "code",
   "execution_count": 2,
   "metadata": {
    "deletable": false,
    "editable": true,
    "nbgrader": {
     "cell_type": "code",
     "checksum": "42bf76f4fa999d9c402aa6b2fae4b4d7",
     "grade": false,
     "grade_id": "cell-bc6886da45bcfc76",
     "locked": false,
     "schema_version": 3,
     "solution": true,
     "task": false
    },
    "revert": "NAME = \"\" \nSTUDENT_ID = \"\" \n# YOUR CODE HERE\nraise NotImplementedError()",
    "slideshow": {
     "slide_type": ""
    },
    "tags": []
   },
   "outputs": [],
   "source": [
    "NAME = \"Konstantinos Vakalopoulos\" \n",
    "STUDENT_ID = \"12223236\" \n",
    "# YOUR CODE HERE\n",
    "# raise NotImplementedError()"
   ]
  },
  {
   "cell_type": "code",
   "execution_count": 3,
   "metadata": {
    "deletable": false,
    "editable": false,
    "nbgrader": {
     "cell_type": "code",
     "checksum": "9f7fdc89f976fb4ac999a0ede1705805",
     "grade": true,
     "grade_id": "name_and_id_test",
     "locked": true,
     "points": 0,
     "schema_version": 3,
     "solution": false,
     "task": false
    },
    "slideshow": {
     "slide_type": ""
    },
    "tags": []
   },
   "outputs": [],
   "source": [
    "assert len(NAME) > 0, \"Enter your name!\"\n",
    "assert len(STUDENT_ID) > 0, \"Enter your student ID!\""
   ]
  },
  {
   "cell_type": "markdown",
   "metadata": {
    "deletable": false,
    "editable": false,
    "nbgrader": {
     "cell_type": "markdown",
     "checksum": "39f8d2a53c8317248bec561e72b3a01e",
     "grade": false,
     "grade_id": "cell-af22af3c51ef2859",
     "locked": true,
     "schema_version": 3,
     "solution": false,
     "task": false
    }
   },
   "source": [
    "# Intelligent Audio and Music Analysis Assignment 6\n",
    "\n",
    "This assignment accounts for 50 points of the 3rd and last assignment block (100 points total)\n",
    "\n",
    "Assignment 6 and 7 are more free form than the previous assignments. The goal is to apply what has been practiced so far. For implementing assignments 6 and 7, follow the code structures from previous assignments and reuse as much code as possible. You can use any libraries, we recommend madmom, librosa, pyTorch, etc. (the libraries we have used so far).\n",
    "\n",
    "## Semantic Music Tagging\n",
    "\n",
    "Following the approach by [Choi et al. \\[2016\\]](https://arxiv.org/pdf/1606.00298.pdf) “Automatic Tagging Using Deep Convolutional Neural Networks”, a CNN architecture shall be implemented to predict semantic categories for short clips of music pieces. As suggested, for experiments, the MagnaTagATune dataset will be used.\n",
    "\n",
    "\n",
    "\n",
    "### GPU Support\n",
    "Our JupyterHub, unfortunately, does not yet provide GPU support. Nevertheless, this assignment can be run as-is on JupyterHub, however training of the neural network will take even longer than last time.\n",
    "\n",
    "In order to speed up training if you are in a hurry, you can run this notebook on any local machine with GPU and cuda support, or alternatively use infrastructure like [google colab](https://colab.research.google.com/) and drive, if you have a google account.\n",
    "\n",
    "Simply upload your solved notebook and output model file back to JupyterHub for your submission."
   ]
  },
  {
   "cell_type": "code",
   "execution_count": 4,
   "metadata": {
    "deletable": false,
    "editable": false,
    "nbgrader": {
     "cell_type": "code",
     "checksum": "87c9235a0eb3c34eeca7963d53dfc36f",
     "grade": false,
     "grade_id": "cell-a7ed23be263a52e5",
     "locked": true,
     "schema_version": 3,
     "solution": false,
     "task": false
    }
   },
   "outputs": [
    {
     "name": "stdout",
     "output_type": "stream",
     "text": [
      "=======================\n",
      "NOT running in colab...\n",
      "=======================\n"
     ]
    }
   ],
   "source": [
    "import os\n",
    "# This code block enables this notebook to run on google colab.\n",
    "try:\n",
    "    from google.colab import drive\n",
    "    print('Running in colab...\\n===================')\n",
    "    COLAB = True\n",
    "    !pip install madmom librosa # torch==1.4.0 torchvision==0.5.0 --upgrade\n",
    "    print('Installed dependencies!\\n=======================')\n",
    "\n",
    "    if not os.path.exists('audio'):\n",
    "        print('Downloading data...\\n===================')\n",
    "        !wget https://mi.soi.city.ac.uk/datasets/magnatagatune/clip_info_final.csv --no-check-certificate\n",
    "        !wget https://mi.soi.city.ac.uk/datasets/magnatagatune/annotations_final.csv --no-check-certificate\n",
    "        !wget https://mi.soi.city.ac.uk/datasets/magnatagatune/mp3.zip.001 --no-check-certificate\n",
    "        !wget https://mi.soi.city.ac.uk/datasets/magnatagatune/mp3.zip.002 --no-check-certificate\n",
    "        !wget https://mi.soi.city.ac.uk/datasets/magnatagatune/mp3.zip.003 --no-check-certificate\n",
    "        !cat mp3.zip.* > mp3.zip\n",
    "        !mkdir audio\n",
    "        !unzip mp3.zip -d audio\n",
    "        !rm mp3.zip.*\n",
    "        \n",
    "        # optionally download cached features\n",
    "        !mkdir cache\n",
    "        !wget -O cache/feat_cache.npy \"https://www.ifs.tuwien.ac.at/~vogl/other/feat_cache.npy\" --no-check-certificate\n",
    "        !wget -O cache/name_cache.npy \"https://www.ifs.tuwien.ac.at/~vogl/other/name_cache.npy\" --no-check-certificate\n",
    "\n",
    "    print('===================\\nMake sure you activated GPU support: Edit->Notebook settings->Hardware acceleration->GPU\\n==================')\n",
    "except:\n",
    "    print('=======================\\nNOT running in colab...\\n=======================')\n",
    "    COLAB = False"
   ]
  },
  {
   "cell_type": "markdown",
   "metadata": {
    "deletable": false,
    "editable": false,
    "nbgrader": {
     "cell_type": "markdown",
     "checksum": "c12800dac62a9a35b91c92509952f284",
     "grade": false,
     "grade_id": "cell-fe37cd78135067a7",
     "locked": true,
     "schema_version": 3,
     "solution": false,
     "task": false
    }
   },
   "source": [
    "## Task 1: Dataset Preparation (20 Points)\n",
    "\n",
    "From the MagnaTagATune dataset Website, use the clip metadata, the zag\n",
    "annotations, and the audio data files. To save storage on the cluster, we already downloaded the files into the shared folder at: `~/shared/data/assignment_6/`\n",
    "\n",
    "Next, prepare the data in a way that allows to train a neural network and test performance:\n",
    "1. Extract features for the audio files (logarithmic mel-frequency spectrograms).\n",
    "2. Generating a training/validation/test split using the provided split definitions (Important: Use the information given in the clip metadata file to ensure that no clips extracted from the same track end up in different splits).\n",
    "3. Filter the tags such that only the 50 most frequent tags in the dataset remain."
   ]
  },
  {
   "cell_type": "code",
   "execution_count": 5,
   "metadata": {
    "deletable": false,
    "editable": false,
    "nbgrader": {
     "cell_type": "code",
     "checksum": "052dface10e5213b6cd7f7dfab394234",
     "grade": false,
     "grade_id": "cell-23e77a30691832c8",
     "locked": true,
     "schema_version": 3,
     "solution": false,
     "task": false
    }
   },
   "outputs": [
    {
     "name": "stdout",
     "output_type": "stream",
     "text": [
      "Total number of audio files: 25862\n"
     ]
    }
   ],
   "source": [
    "import os\n",
    "import numpy as np\n",
    "\n",
    "# get dataset path\n",
    "dataset_path = os.path.join(os.environ['HOME'], 'shared', '194.039-2023W', 'data', 'assignment_6')\n",
    "if os.path.exists('audio'):\n",
    "    dataset_path = '.'\n",
    "\n",
    "audio_path = os.path.join(dataset_path, 'audio')\n",
    "cache_path = os.path.join(dataset_path, 'cache')\n",
    "\n",
    "data_file_clip_info = os.path.join(dataset_path, 'clip_info_final.csv')\n",
    "data_file_annotations = os.path.join(dataset_path, 'annotations_final.csv')\n",
    "\n",
    "# collect list of audio files:\n",
    "sub_paths = os.listdir(audio_path)\n",
    "audio_file_paths = []\n",
    "for sub_path in sub_paths:\n",
    "    cur_path = os.path.join(audio_path, sub_path)\n",
    "    if not os.path.isdir(cur_path):\n",
    "        continue\n",
    "    audio_files = [af for af in os.listdir(cur_path) if af.endswith('.mp3')]\n",
    "    audio_file_paths.extend([os.path.join(audio_path, sub_path, af) for af in audio_files])\n",
    "\n",
    "audio_file_total_count = len(audio_file_paths)\n",
    "\n",
    "print(f'Total number of audio files: {audio_file_total_count}')"
   ]
  },
  {
   "cell_type": "markdown",
   "metadata": {
    "deletable": false,
    "editable": false,
    "nbgrader": {
     "cell_type": "markdown",
     "checksum": "9a84c8dd8053e759ebdc8cd3c9cf00bf",
     "grade": false,
     "grade_id": "cell-d92c736eab25f84c",
     "locked": true,
     "schema_version": 3,
     "solution": false,
     "task": false
    }
   },
   "source": [
    "### 1.1 Feature Extraction\n",
    "\n",
    "Iterate over the audio files and extract log mel-frequency spectrograms. You can use madmom or librose, and are free to copy your code from previous assignments. Make sure to use the provided variables, in order for the automated tests to pass.\n",
    "\n",
    "Since we are interested in global properties, Choi et al. \\[2016\\] uses parameters that result in a more coarse spectrogram. Additionally all audio files are in the dataset should have the common length of 29.1s, which results in feature matrices with a fixed shape."
   ]
  },
  {
   "cell_type": "code",
   "execution_count": 6,
   "metadata": {
    "deletable": false,
    "editable": false,
    "nbgrader": {
     "cell_type": "code",
     "checksum": "d980dba8d2b8e2cc0d6b10f84cbc99dd",
     "grade": false,
     "grade_id": "cell-ecddd1ca43d6c819",
     "locked": true,
     "schema_version": 3,
     "solution": false,
     "task": false
    }
   },
   "outputs": [],
   "source": [
    "audio_len = 29.124\n",
    "sample_rate = 12000\n",
    "fft_frame_size = 512\n",
    "num_mel_bands = 96\n",
    "hop_size = 256\n",
    "\n",
    "exp_feat_shape = (96, 1366)"
   ]
  },
  {
   "cell_type": "markdown",
   "metadata": {
    "deletable": false,
    "editable": false,
    "nbgrader": {
     "cell_type": "markdown",
     "checksum": "0520ef47c956ff067d47d7f4d9880785",
     "grade": false,
     "grade_id": "cell-84d189277e6b8b1b",
     "locked": true,
     "schema_version": 3,
     "solution": false,
     "task": false
    }
   },
   "source": [
    "**Implement the function below to extract the features from the list of audio files.** You can use `madmom` or `librosa` to extract the mel spectrograms. Be aware of the different ordering of dimensions for frequency bins and time of the two frameworks.\n",
    "\n",
    "**Note:** Make sure to be able to handle corrupt audio files (e.g. try/except block), there are a couple of corrupt audio files in the dataset."
   ]
  },
  {
   "cell_type": "code",
   "execution_count": 7,
   "metadata": {
    "deletable": false,
    "nbgrader": {
     "cell_type": "code",
     "checksum": "8c8d2f135fb7197bb072a577ea62b748",
     "grade": false,
     "grade_id": "cell-0e4198c9c0ba9e75",
     "locked": false,
     "schema_version": 3,
     "solution": true,
     "task": false
    },
    "revert": "import sys\n\ndef extract_features(file_list):\n    features = []  # list containing features for each audio file\n    file_names = []  # audio file names for features (indices should correspond!), cut path and file extension, only leave names\n    # iterate over files and extract features...\n    # YOUR CODE HERE\n    raise NotImplementedError()\n    print(sys.getsizeof(features))\n    return np.asarray(features), np.asarray(file_names)"
   },
   "outputs": [],
   "source": [
    "import sys\n",
    "import librosa\n",
    "from pathlib import Path\n",
    "def extract_features(file_list):\n",
    "    features = []  # list containing features for each audio file\n",
    "    file_names = []  # audio file names for features (indices should correspond!), cut path and file extension, only leave names\n",
    "    # iterate over files and extract features...\n",
    "    # YOUR CODE HERE  \n",
    "    for file in file_list:\n",
    "        try:\n",
    "            signal_audio, sr  = librosa.load(file, sr = sample_rate)\n",
    "            mel_spectrogram = librosa.feature.melspectrogram(y=signal_audio, sr=sample_rate,n_fft = fft_frame_size,\n",
    "                                                          hop_length = hop_size,n_mels=num_mel_bands)\n",
    "            features.append(librosa.power_to_db(mel_spectrogram))\n",
    "            file_names.append(Path(file).stem)\n",
    "        except:\n",
    "            continue\n",
    "    features = np.asarray(features)\n",
    "    print(features.shape)\n",
    "    \n",
    "    # raise NotImplementedError()\n",
    "    print(sys.getsizeof(features))\n",
    "    return np.asarray(features), np.asarray(file_names)"
   ]
  },
  {
   "cell_type": "code",
   "execution_count": 8,
   "metadata": {
    "deletable": false,
    "editable": false,
    "nbgrader": {
     "cell_type": "code",
     "checksum": "4116225186670d61d6a079707c6ca2f8",
     "grade": true,
     "grade_id": "cell-625aaac284ca79b0",
     "locked": true,
     "points": 5,
     "schema_version": 3,
     "solution": false,
     "task": false
    }
   },
   "outputs": [
    {
     "name": "stdout",
     "output_type": "stream",
     "text": [
      "(10, 96, 1366)\n",
      "5245584\n",
      "Calculating features for 10 files took: 8.07s. Full dataset (25862) will take: 20862.70s.\n",
      "Public tests successful!\n",
      "score = 2.0\n"
     ]
    },
    {
     "data": {
      "text/plain": [
       "2.0"
      ]
     },
     "execution_count": 8,
     "metadata": {},
     "output_type": "execute_result"
    }
   ],
   "source": [
    "# tests # DO NOT COPY OR MODIFY THIS CELL!!\n",
    "\n",
    "from time import time as get_time\n",
    "\n",
    "t1 = get_time()\n",
    "num_test_files = 10\n",
    "test_feats, test_names = extract_features(audio_file_paths[:num_test_files])\n",
    "t_calc = get_time()-t1\n",
    "print(f\"Calculating features for {num_test_files} files took: {t_calc:.2f}s. Full dataset ({audio_file_total_count}) will take: {t_calc/num_test_files*audio_file_total_count:.2f}s.\")\n",
    "\n",
    "assert len(test_feats) == num_test_files, \"not all features calculated!\"\n",
    "assert all([cur_feat.shape == exp_feat_shape for cur_feat in test_feats]), \"incorrect features shape!\"\n",
    "score=2.0\n",
    "print('Public tests successful!')\n",
    "print(f\"score = {score}\")\n",
    "score"
   ]
  },
  {
   "cell_type": "markdown",
   "metadata": {
    "deletable": false,
    "editable": false,
    "nbgrader": {
     "cell_type": "markdown",
     "checksum": "71ea054fbeab02b6f43e666215dfec89",
     "grade": false,
     "grade_id": "cell-ccd683a5d9bdab60",
     "locked": true,
     "schema_version": 3,
     "solution": false,
     "task": false
    }
   },
   "source": [
    "As you can see from the test above, extracting the features takes quite some time. To save you the time when restarting the kernel, and/or save disk space on the cluster, we already cached the features and stored them in a numpy file. If you run this notebook somewhere else (e.g. Colab), be prepared that the feature extraction will take significant time.\n",
    "You can also copy the numpy arrays if this is faster than recalculating all features. Also be aware that the cached features file is approximately 14GB."
   ]
  },
  {
   "cell_type": "code",
   "execution_count": 9,
   "metadata": {
    "deletable": false,
    "editable": false,
    "nbgrader": {
     "cell_type": "code",
     "checksum": "373575710f88639c4c09cccfb8f86dea",
     "grade": false,
     "grade_id": "cell-52c46eb12aabcb30",
     "locked": true,
     "schema_version": 3,
     "solution": false,
     "task": false
    }
   },
   "outputs": [
    {
     "name": "stdout",
     "output_type": "stream",
     "text": [
      "Loaded feature cache. \n"
     ]
    }
   ],
   "source": [
    "feat_cache_file = os.path.join(cache_path, 'feat_cache.npy')\n",
    "name_cache_file = os.path.join(cache_path, 'name_cache.npy')\n",
    "if not os.path.exists(feat_cache_file) or not os.path.exists(name_cache_file):\n",
    "    t1 = get_time()\n",
    "    features, file_names = extract_features(audio_file_paths)\n",
    "    np.save(feat_cache_file, features)\n",
    "    np.save(name_cache_file, file_names)\n",
    "    print(f\"Recalculated all features. Took: {get_time()-t1} seconds.\")\n",
    "else:\n",
    "    features = np.load(feat_cache_file, allow_pickle=True, mmap_mode='r')\n",
    "    file_names = np.load(name_cache_file, allow_pickle=True, mmap_mode='r')\n",
    "    print(f\"Loaded feature cache. \")"
   ]
  },
  {
   "cell_type": "markdown",
   "metadata": {
    "deletable": false,
    "editable": false,
    "nbgrader": {
     "cell_type": "markdown",
     "checksum": "0edfc853cf4fb41332ef8d63686c08f0",
     "grade": false,
     "grade_id": "cell-637f55e6274bdd99",
     "locked": true,
     "schema_version": 3,
     "solution": false,
     "task": false
    }
   },
   "source": [
    "The next cell is a workaround for the limited infrastructure. If you have enough hardware resources, you can run the example with the full data."
   ]
  },
  {
   "cell_type": "code",
   "execution_count": 10,
   "metadata": {
    "revert": "# subsample features and names to make data size more manageable.\n# if you have powerful infrastructure you can run with full data and set use_subsample to False.\nuse_subsample = True\ndata_size = len(features)\nif use_subsample:\n    indices = list(range(data_size))\n\n    fraction = 0.25\n    data_size = int(data_size * fraction)\n    import random\n    random.shuffle(indices)\n    indices = indices[:data_size]\n\n    features = features[indices]\n    file_names = file_names[indices]\n    \ndata_size = len(features)\nprint(f'number of datapoints: {data_size}')"
   },
   "outputs": [
    {
     "name": "stdout",
     "output_type": "stream",
     "text": [
      "number of datapoints: 6465\n"
     ]
    }
   ],
   "source": [
    "# subsample features and names to make data size more manageable.\n",
    "# if you have powerful infrastructure you can run with full data and set use_subsample to False.\n",
    "use_subsample = True\n",
    "data_size = len(features)\n",
    "if use_subsample:\n",
    "    indices = list(range(data_size))\n",
    "\n",
    "    fraction = 0.25\n",
    "    data_size = int(data_size * fraction)\n",
    "    import random\n",
    "    random.shuffle(indices)\n",
    "    indices = indices[:data_size]\n",
    "\n",
    "    features = features[indices]\n",
    "    file_names = file_names[indices]\n",
    "    \n",
    "data_size = len(features)\n",
    "print(f'number of datapoints: {data_size}')"
   ]
  },
  {
   "cell_type": "code",
   "execution_count": 11,
   "metadata": {
    "deletable": false,
    "editable": false,
    "nbgrader": {
     "cell_type": "code",
     "checksum": "14b7f25ae0521a9e584699b6f2c99053",
     "grade": true,
     "grade_id": "cell-5c525475f5e08496",
     "locked": true,
     "points": 2,
     "schema_version": 3,
     "solution": false,
     "task": false
    }
   },
   "outputs": [
    {
     "name": "stdout",
     "output_type": "stream",
     "text": [
      "All tests successful!\n"
     ]
    }
   ],
   "source": [
    "# tests # DO NOT COPY OR MODIFY THIS CELL!!\n",
    "\n",
    "assert features[0].shape == (96, 1366)\n",
    "\n",
    "print('All tests successful!')"
   ]
  },
  {
   "cell_type": "markdown",
   "metadata": {
    "deletable": false,
    "editable": false,
    "nbgrader": {
     "cell_type": "markdown",
     "checksum": "b434796d14e970e9f04632ae0fbf4bd2",
     "grade": false,
     "grade_id": "cell-88bd2a921720331f",
     "locked": true,
     "schema_version": 3,
     "solution": false,
     "task": false
    }
   },
   "source": [
    "### 1.2 Collect and Preprocess Tags\n",
    "\n",
    "The file referenced by `data_file_annotations` contains the annotations of the dataset. It is a comma-separated-values file (csv), you can use e.g. the python package [`csv`](https://docs.python.org/3/library/csv.html) or [`pandas`](https://pandas.pydata.org/docs/user_guide/10min.html) to open and work on the data. Note that `csv` is simple and easy to use, but offers little data handling support, while `pandas` is more complex but also more powerful.\n",
    "Once you loaded the data from the file, inspect the data. You will find, that each row represents an audio clip, and there are columns for each annotated tag, as well as for the path to the audio file `mp3_path` and some unique ID `clip_id`.\n",
    "Extract all tags, gather a set of unique tags, and count how often each tag is used.\n",
    "Then only keep the 50 most frequent tags `most_freq_tags`.\n",
    "\n",
    "The returned list of tags represents our classes, and indices in this list represent the unique ID for the corresponding class - so after the definition of the `class_names` list, do not change the order of this list later in the notebook, and reference classes / class labels as indices of this list / names in this list.\n",
    "\n",
    "**Implement the function below to build the list of class names and training targets.**"
   ]
  },
  {
   "cell_type": "code",
   "execution_count": 12,
   "metadata": {
    "deletable": false,
    "editable": false,
    "nbgrader": {
     "cell_type": "code",
     "checksum": "f6c4529ae089cf9d50fc56433aa45669",
     "grade": false,
     "grade_id": "cell-a23709d93d5428e7",
     "locked": true,
     "schema_version": 3,
     "solution": false,
     "task": false
    }
   },
   "outputs": [],
   "source": [
    "DEFAULT_NUM_CLASSES = 50"
   ]
  },
  {
   "cell_type": "code",
   "execution_count": 13,
   "metadata": {
    "deletable": false,
    "nbgrader": {
     "cell_type": "code",
     "checksum": "4ee8a90d4a89ad9ed72599a8596aef08",
     "grade": false,
     "grade_id": "cell-d54b144c084cd5aa",
     "locked": false,
     "schema_version": 3,
     "solution": true,
     "task": false
    },
    "revert": "def create_targets(num_classes = DEFAULT_NUM_CLASSES, annot_file=data_file_annotations):\n    # read annotations from data_file_annotations\n    # extract 50 most frequent tags\n    most_freq_tags = []  #TODO: fill with most frequent tags\n    class_names = most_freq_tags\n\n    # buld targets for the neural network training:\n    # creat an array with binary on/off values for each tag in most_freq_tags (target array); \n    # create these target arrays for each of the rows in the annotation file.\n    # each row in the annotation file references a audio file ('clip_id' / 'mp3_path').\n    # store an entry in the dictionary below using the audio name ('mp3_path' column without path and extension, \n    # as for the features list) as key and the target array as value\n    targ_dict = {}  #TODO: fill with targets\n\n    # YOUR CODE HERE\n    raise NotImplementedError()\n    return class_names, targ_dict"
   },
   "outputs": [],
   "source": [
    "import pandas as pd\n",
    "\n",
    "def create_targets(num_classes = DEFAULT_NUM_CLASSES, annot_file=data_file_annotations):\n",
    "    # read annotations from data_file_annotations\n",
    "    # extract 50 most frequent tags\n",
    "    most_freq_tags = []  #TODO: fill with most frequent tags\n",
    "    class_names = most_freq_tags\n",
    "\n",
    "    # buld targets for the neural network training:\n",
    "    # creat an array with binary on/off values for each tag in most_freq_tags (target array); \n",
    "    # create these target arrays for each of the rows in the annotation file.\n",
    "    # each row in the annotation file references a audio file ('clip_id' / 'mp3_path').\n",
    "    # store an entry in the dictionary below using the audio name ('mp3_path' column without path and extension, \n",
    "    # as for the features list) as key and the target array as value\n",
    "    targ_dict = {}  #TODO: fill with targets\n",
    "\n",
    "    # YOUR CODE HERE\n",
    "\n",
    "    # raise NotImplementedError()\n",
    "    annotations = pd.read_csv(data_file_annotations, sep='\\t')\n",
    "    all_class_names = annotations.columns.values\n",
    "    \n",
    "    counting = {}\n",
    "    for name in all_class_names:\n",
    "        counting[name] = 0\n",
    "    \n",
    "    for index, row in annotations.iterrows():\n",
    "        for name in all_class_names:\n",
    "            if(row[name] == 1):\n",
    "                counting[name] += 1\n",
    "    \n",
    "    sorted_classes = {k: v for k, v in sorted(counting.items(), key=lambda item: item[1], reverse = True)}\n",
    "    \n",
    "    sorted_classes_top = list(sorted_classes.keys())[:50]\n",
    "    \n",
    "    most_freq_tags = sorted_classes_top\n",
    "    class_names = most_freq_tags\n",
    "    \n",
    "    for index, row in annotations.iterrows():\n",
    "        annot = []\n",
    "        for cl in class_names:\n",
    "            annot.append(row[cl])\n",
    "        targ_dict[Path(row['mp3_path']).stem] = np.asarray(annot)\n",
    "\n",
    "    return class_names, targ_dict"
   ]
  },
  {
   "cell_type": "code",
   "execution_count": 14,
   "metadata": {
    "deletable": false,
    "editable": false,
    "nbgrader": {
     "cell_type": "code",
     "checksum": "9bcd95fcaa74216abd23a1e6fb94a947",
     "grade": false,
     "grade_id": "cell-d5001e3dd4f0382c",
     "locked": true,
     "schema_version": 3,
     "solution": false,
     "task": false
    }
   },
   "outputs": [
    {
     "name": "stdout",
     "output_type": "stream",
     "text": [
      "most frequent tags: ['guitar', 'classical', 'slow', 'techno', 'strings', 'drums', 'electronic', 'rock', 'fast', 'piano', 'ambient', 'beat', 'violin', 'vocal', 'synth', 'female', 'indian', 'opera', 'male', 'singing', 'vocals', 'no vocals', 'harpsichord', 'loud', 'quiet', 'flute', 'woman', 'male vocal', 'no vocal', 'pop', 'soft', 'sitar', 'solo', 'man', 'classic', 'choir', 'voice', 'new age', 'dance', 'male voice', 'female vocal', 'beats', 'harp', 'cello', 'no voice', 'weird', 'country', 'female voice', 'metal', 'choral']\n"
     ]
    }
   ],
   "source": [
    "class_names, targ_dict = create_targets()\n",
    "\n",
    "print(f'most frequent tags: {class_names}')"
   ]
  },
  {
   "cell_type": "code",
   "execution_count": 15,
   "metadata": {
    "deletable": false,
    "editable": false,
    "nbgrader": {
     "cell_type": "code",
     "checksum": "fa7d571b9550f5bc86e7ae77ee3ed2da",
     "grade": true,
     "grade_id": "cell-5a8f67659428c345",
     "locked": true,
     "points": 5,
     "schema_version": 3,
     "solution": false,
     "task": false
    }
   },
   "outputs": [
    {
     "name": "stdout",
     "output_type": "stream",
     "text": [
      "Public tests successful!\n",
      "score = 2.0\n"
     ]
    },
    {
     "data": {
      "text/plain": [
       "2.0"
      ]
     },
     "execution_count": 15,
     "metadata": {},
     "output_type": "execute_result"
    }
   ],
   "source": [
    "# tests # DO NOT COPY OR MODIFY THIS CELL!!\n",
    "\n",
    "assert len(class_names) == DEFAULT_NUM_CLASSES\n",
    "\n",
    "assert len(targ_dict.keys()) >= audio_file_total_count\n",
    "\n",
    "assert next(iter(targ_dict.values())).shape == (DEFAULT_NUM_CLASSES, ), f\"invalid shape for targets, expected ({DEFAULT_NUM_CLASSES}, )\"\n",
    "print('Public tests successful!')\n",
    "score = 2.0\n",
    "print(f\"score = {score}\")\n",
    "score"
   ]
  },
  {
   "cell_type": "markdown",
   "metadata": {
    "deletable": false,
    "editable": false,
    "nbgrader": {
     "cell_type": "markdown",
     "checksum": "ac0f60adc29b092185de90367439b975",
     "grade": false,
     "grade_id": "cell-57187004bb828831",
     "locked": true,
     "schema_version": 3,
     "solution": false,
     "task": false
    }
   },
   "source": [
    "### Task 1.3 Generating Dataset Splits\n",
    "Divide the data into training, validation, and test splits. For validation use approximately 5% and for testing hold out approximately 15% of the total data.\n",
    "Consider that there maybe be multiple clips of the same track. Different clips of the same track must be in the same split (all in either train, valid, or test), to counteract overfitting.\n",
    "\n",
    "To identify the individual tracks and clips of the same track, we need to look into the file `'clip_info_final.csv'`. The path to this file is stored in `data_file_clip_info`.\n",
    "\n",
    "You can identify individual tracks by their `original_url` column, however, for some files the `original_url` is not provided. So to be save, use a combination of the following columns to identify unique entries: `[\"track_number\", \"title\", \"artist\", \"album\", \"url\", \"original_url\"]`.\n",
    "Note that individual tracks will have a varying count of clips.\n",
    "\n",
    "The easiest way to divide the data into train, valid, and test split, is to divide the tracks (unique rows from above) into the splits, and assume that the number of clips will average out over all tracks, so that in the end we get approximately the desired split sizes (the exact number is not so important). You are free to accomplish this in any other way if you prefer.\n"
   ]
  },
  {
   "cell_type": "code",
   "execution_count": 16,
   "metadata": {
    "deletable": false,
    "editable": false,
    "nbgrader": {
     "cell_type": "code",
     "checksum": "075566dd384b5fe99678556a3ed5dbc7",
     "grade": false,
     "grade_id": "cell-0008272fc2e0c668",
     "locked": true,
     "schema_version": 3,
     "solution": false,
     "task": false
    }
   },
   "outputs": [],
   "source": [
    "DEFAULT_TEST_PERC = 0.15\n",
    "DEFAULT_VALID_PERC = 0.05"
   ]
  },
  {
   "cell_type": "code",
   "execution_count": 17,
   "metadata": {
    "deletable": false,
    "nbgrader": {
     "cell_type": "code",
     "checksum": "b25255d4301fbe1ddb6cbd86374b887e",
     "grade": false,
     "grade_id": "cell-8f12e075aaf308ec",
     "locked": false,
     "schema_version": 3,
     "solution": true,
     "task": false
    },
    "revert": "# to split features, targets, and names into train, valid, and test split, it is easiest to just \n# generate indices to our overall feature/name/target lists.\n# the indices should be randomly drawn, but also put samples of the same original track in the same split.\n# feel free to change this cell, if you choose to define your splits in another way.\n\ndef get_split_indices(file_names_list, clip_info_file, \n                      test_perc=DEFAULT_TEST_PERC, valid_perc=DEFAULT_VALID_PERC):\n    train_perc = 1-test_perc-valid_perc\n    \n    # YOUR CODE HERE\n    raise NotImplementedError()\n    return test_indcs, valid_indcs, train_indcs"
   },
   "outputs": [],
   "source": [
    "from random import randrange\n",
    "# to split features, targets, and names into train, valid, and test split, it is easiest to just \n",
    "# generate indices to our overall feature/name/target lists.\n",
    "# the indices should be randomly drawn, but also put samples of the same original track in the same split.\n",
    "# feel free to change this cell, if you choose to define your splits in another way.\n",
    "\n",
    "def get_split_indices(file_names_list, clip_info_file, \n",
    "                      test_perc=DEFAULT_TEST_PERC, valid_perc=DEFAULT_VALID_PERC):\n",
    "    train_perc = 1-test_perc-valid_perc\n",
    "    \n",
    "    # YOUR CODE HERE\n",
    "    # raise NotImplementedError()\n",
    "    test_indcs = []\n",
    "    train_indcs = []\n",
    "    valid_indcs = []\n",
    "    \n",
    "    tracks = pd.read_csv(clip_info_file, sep='\\t')\n",
    "\n",
    "    files = []\n",
    "    for file in file_names_list:\n",
    "        files.append(file.split('-'))\n",
    "  \n",
    "\n",
    "    unassigned = file_names_list\n",
    "    \n",
    "    for index, row in tracks.iterrows():\n",
    "        \n",
    "        pick = randrange(0,100)\n",
    "        if(pick < DEFAULT_VALID_PERC*100):\n",
    "            set_choice = \"valid\"\n",
    "        elif(pick < (DEFAULT_TEST_PERC*100 + DEFAULT_VALID_PERC*100)):\n",
    "            set_choice = \"test\"    \n",
    "        else:\n",
    "            set_choice = \"train\"\n",
    "        \n",
    "        name = row['mp3_path']\n",
    "        \n",
    "        if isinstance(name, str):\n",
    "            name = row['mp3_path'][2:-4]\n",
    "            if name in file_names_list:\n",
    "                i = file_names_list.index(name)\n",
    "                if(i not in test_indcs and i not in train_indcs and i not in valid_indcs):\n",
    "                    if(set_choice == \"test\"):\n",
    "                        test_indcs.append(i)\n",
    "                    if(set_choice == \"valid\"):\n",
    "                        valid_indcs.append(i)\n",
    "                    if(set_choice == \"train\"):\n",
    "                        train_indcs.append(i)\n",
    "                else:\n",
    "                    print(name)\n",
    "                    \n",
    "    return test_indcs, valid_indcs, train_indcs"
   ]
  },
  {
   "cell_type": "code",
   "execution_count": 18,
   "metadata": {
    "revert": "# feel free to change this, if you define your splits other than by indices...\n\ntest_indcs, valid_indcs, train_indcs = get_split_indices(list(file_names), data_file_clip_info)\n\ntest_feats = features[test_indcs]\nvalid_feats = features[valid_indcs]\ntrain_feats = features[train_indcs]\n\ntest_names = file_names[test_indcs]\nvalid_names = file_names[valid_indcs]\ntrain_names = file_names[train_indcs]\n\ntrain_targs = np.asarray([targ_dict[cur_name] for cur_name in train_names])\nvalid_targs = np.asarray([targ_dict[cur_name] for cur_name in valid_names])\ntest_targs = np.asarray([targ_dict[cur_name] for cur_name in test_names])"
   },
   "outputs": [],
   "source": [
    "# feel free to change this, if you define your splits other than by indices...\n",
    "\n",
    "test_indcs, valid_indcs, train_indcs = get_split_indices(list(file_names), data_file_clip_info)\n",
    "\n",
    "test_feats = features[test_indcs]\n",
    "valid_feats = features[valid_indcs]\n",
    "train_feats = features[train_indcs]\n",
    "\n",
    "test_names = file_names[test_indcs]\n",
    "valid_names = file_names[valid_indcs]\n",
    "train_names = file_names[train_indcs]\n",
    "\n",
    "train_targs = np.asarray([targ_dict[cur_name] for cur_name in train_names])\n",
    "valid_targs = np.asarray([targ_dict[cur_name] for cur_name in valid_names])\n",
    "test_targs = np.asarray([targ_dict[cur_name] for cur_name in test_names])"
   ]
  },
  {
   "cell_type": "code",
   "execution_count": 19,
   "metadata": {
    "deletable": false,
    "editable": false,
    "nbgrader": {
     "cell_type": "code",
     "checksum": "9c38c57aa27132e26a61315552a660a5",
     "grade": true,
     "grade_id": "cell-2323f169a8decf8a",
     "locked": true,
     "points": 3,
     "schema_version": 3,
     "solution": false,
     "task": false
    }
   },
   "outputs": [
    {
     "name": "stdout",
     "output_type": "stream",
     "text": [
      "All tests successful!\n"
     ]
    }
   ],
   "source": [
    "# tests # DO NOT COPY OR MODIFY THIS CELL!!\n",
    "\n",
    "tmp_test_perc=DEFAULT_TEST_PERC\n",
    "tmp_valid_perc=DEFAULT_VALID_PERC\n",
    "tmp_train_perc = 1-tmp_test_perc-tmp_valid_perc\n",
    "\n",
    "# we assume for spliting by tracks, that the split sizes should be within +-20%\n",
    "assert int(data_size*tmp_train_perc*0.8) <= len(train_indcs) \\\n",
    "                        <= int(data_size*tmp_train_perc*1.2)\n",
    "assert int(data_size*tmp_valid_perc*0.8) <= len(valid_indcs) \\\n",
    "                        <= int(data_size*tmp_valid_perc*1.2)\n",
    "assert int(data_size*tmp_test_perc*0.8) <= len(test_indcs) \\\n",
    "                        <= int(data_size*tmp_test_perc*1.2)\n",
    "\n",
    "print('All tests successful!')"
   ]
  },
  {
   "cell_type": "markdown",
   "metadata": {
    "deletable": false,
    "editable": false,
    "nbgrader": {
     "cell_type": "markdown",
     "checksum": "8eefdc21c9c7ae563f10e7d1e19d9c97",
     "grade": false,
     "grade_id": "cell-b6b5773d5570419c",
     "locked": true,
     "schema_version": 3,
     "solution": false,
     "task": false
    }
   },
   "source": [
    "### 1.4 Dataset Class \n",
    "\n",
    "**Implement a torch dataset** as we did for assignment 5. In this case the dataset is quite simple, since we will return one file as one training example.\n",
    "The total count, therefore, is the length of the feature list, and the `getitem` method should just return the feature/target combination at the provided index.\n",
    "Remember to convert the return values for `getitem` to torch tensors."
   ]
  },
  {
   "cell_type": "code",
   "execution_count": 20,
   "metadata": {
    "revert": "import torch\nfrom torch.utils.data import Dataset\n\nif not COLAB:\n    torch.set_num_threads(16)  # we have to set the number of threads < 64, this is a workaround"
   },
   "outputs": [],
   "source": [
    "import torch\n",
    "from torch.utils.data import Dataset\n",
    "\n",
    "if not COLAB:\n",
    "    torch.set_num_threads(16)  # we have to set the number of threads < 64, this is a workaround"
   ]
  },
  {
   "cell_type": "code",
   "execution_count": 21,
   "metadata": {
    "deletable": false,
    "nbgrader": {
     "cell_type": "code",
     "checksum": "f3cb937bbd0c949422876fae88d4bc96",
     "grade": false,
     "grade_id": "cell-0205946a361e6895",
     "locked": false,
     "schema_version": 3,
     "solution": true,
     "task": false
    },
    "revert": "class MagnaSet(Dataset):\n    def __init__(self, features, targets):\n        super(MagnaSet, self).__init__()\n        # YOUR CODE HERE\n        raise NotImplementedError()\n\n    def __len__(self):\n        # YOUR CODE HERE\n        raise NotImplementedError()\n\n    def __getitem__(self, idx):\n        # YOUR CODE HERE\n        raise NotImplementedError()"
   },
   "outputs": [],
   "source": [
    "class MagnaSet(Dataset):\n",
    "    def __init__(self, features, targets):\n",
    "        super(MagnaSet, self).__init__()\n",
    "        # YOUR CODE HERE\n",
    "        self.features = features\n",
    "        self.targets = targets\n",
    "        \n",
    "        self.length = len(features)\n",
    "\n",
    "    def __len__(self):\n",
    "        # YOUR CODE HERE\n",
    "        return self.length\n",
    "\n",
    "    def __getitem__(self, idx):\n",
    "        # YOUR CODE HERE\n",
    "        features_ret = self.features[idx].astype(np.float32)\n",
    "        targets_ret = self.targets[idx].astype(np.float32)\n",
    "        data = (torch.tensor(features_ret), torch.tensor(targets_ret))\n",
    "\n",
    "        return data"
   ]
  },
  {
   "cell_type": "code",
   "execution_count": 22,
   "metadata": {
    "deletable": false,
    "editable": false,
    "nbgrader": {
     "cell_type": "code",
     "checksum": "ff5c9a5a8e2c2da1139c85163a00fdee",
     "grade": true,
     "grade_id": "cell-3079327571d8fe84",
     "locked": true,
     "points": 5,
     "schema_version": 3,
     "solution": false,
     "task": false
    }
   },
   "outputs": [
    {
     "name": "stdout",
     "output_type": "stream",
     "text": [
      "All tests successful!\n"
     ]
    }
   ],
   "source": [
    "# tests # DO NOT COPY OR MODIFY THIS CELL!!\n",
    "tmp_num_samples = 100\n",
    "tmp_test_feats = np.asarray([np.random.rand(*exp_feat_shape) for _ in range(tmp_num_samples)])\n",
    "tmp_test_targs = np.asarray([np.random.rand(DEFAULT_NUM_CLASSES) for _ in range(tmp_num_samples)])\n",
    "\n",
    "tmp_test_dataset = MagnaSet(tmp_test_feats, tmp_test_targs)\n",
    "\n",
    "assert len(tmp_test_dataset) == tmp_num_samples, \"dataset returns wrong length\"\n",
    "\n",
    "tmp_ex_feat, tmp_ex_targ = tmp_test_dataset[10]\n",
    "assert tmp_ex_feat.shape == exp_feat_shape\n",
    "assert tmp_ex_targ.shape == (DEFAULT_NUM_CLASSES, )\n",
    "assert np.allclose(tmp_ex_feat, tmp_test_feats[10])\n",
    "tmp_ex_feat, tmp_ex_targ = tmp_test_dataset[0]\n",
    "assert tmp_ex_feat.shape == exp_feat_shape\n",
    "assert tmp_ex_targ.shape == (DEFAULT_NUM_CLASSES, )\n",
    "assert np.allclose(tmp_ex_feat, tmp_test_feats[0])\n",
    "tmp_ex_feat, tmp_ex_targ = tmp_test_dataset[tmp_num_samples-1]\n",
    "assert tmp_ex_feat.shape == exp_feat_shape\n",
    "assert tmp_ex_targ.shape == (DEFAULT_NUM_CLASSES, )\n",
    "assert np.allclose(tmp_ex_feat, tmp_test_feats[tmp_num_samples-1])\n",
    "\n",
    "try:\n",
    "    tmp_ex_feat, tmp_ex_targ = tmp_test_dataset[tmp_num_samples]\n",
    "    assert False, \"this should produce an out of index error!\"\n",
    "except:\n",
    "    assert True\n",
    "\n",
    "print('All tests successful!')"
   ]
  },
  {
   "cell_type": "markdown",
   "metadata": {
    "deletable": false,
    "editable": false,
    "nbgrader": {
     "cell_type": "markdown",
     "checksum": "22dba9f579626736df8d6d9ec1149fd0",
     "grade": false,
     "grade_id": "cell-b486d15cd814f352",
     "locked": true,
     "schema_version": 3,
     "solution": false,
     "task": false
    }
   },
   "source": [
    "## Task 2: Neural Network Implementaion (5 Points)\n",
    "\n",
    "Implement the neural network architecture outlined by Choi et al. \\[2016\\]. The model usees the Mel-spectrograms as inputs and produces a 50-value vector as output (representing the probabilities for labels). Since multiple labels can apply, sigmoid outputs should be used. \n",
    "\n",
    "Note that the FCN-4 architecture described in the paper lacks implementation details and is revisited in the github repository to the paper. So, instead follow the MusicTaggerCNN [KERAS reference implementation](https://github.com/keunwoochoi/music-auto_tagging-keras/blob/master/music_tagger_cnn.py) by the same authors to reproduce the architecture using pyTorch.\n",
    "\n",
    "The architecture consists of 5 CNN layers (with 3x3 kernels all; and 64, 128, 128, 128, 64 channels respectively), and a fully connected output layer with 50 nodes. Use batch-normalization and max-pooling (with 2x4, 2x4, 2x4, 3x5, 4x4 kernels) after each convolutional layer, and as activation functions use ELU (`torch_func.elu`).\n",
    "\n",
    "**Implement the pytorch network below.** Make sure to use the debug flag to log the shape after each layer (as we did in assignment 5), in order to be able to check the architecture!"
   ]
  },
  {
   "cell_type": "code",
   "execution_count": 23,
   "metadata": {
    "deletable": false,
    "nbgrader": {
     "cell_type": "code",
     "checksum": "ff57107b159b0b87a3cf300dc311c7bd",
     "grade": false,
     "grade_id": "cell-3adfd44ac136d1cc",
     "locked": false,
     "schema_version": 3,
     "solution": true,
     "task": false
    },
    "revert": "import torch.nn as nn\nimport torch.nn.functional as torch_func\n\nclass MusicTaggerCNN(nn.Module):\n    def __init__(self, debug=False, num_classes=DEFAULT_NUM_CLASSES):\n        super(MusicTaggerCNN, self).__init__()\n        self.debug = debug # use the debug flag again to produce shape outputs in the forward function.\n        \n        #initialize modules for neural network\n        # YOUR CODE HERE\n        raise NotImplementedError()\n\n    def forward(self, x):\n        x = x.unsqueeze(1)\n        # YOUR CODE HERE\n        raise NotImplementedError()\n        return y"
   },
   "outputs": [],
   "source": [
    "import torch.nn as nn\n",
    "import torch.nn.functional as torch_func\n",
    "\n",
    "class MusicTaggerCNN(nn.Module):\n",
    "    def __init__(self, debug=False, num_classes=DEFAULT_NUM_CLASSES):\n",
    "        super(MusicTaggerCNN, self).__init__()\n",
    "        self.debug = debug # use the debug flag again to produce shape outputs in the forward function.\n",
    "        \n",
    "        #initialize modules for neural network\n",
    "        \n",
    "        # 1st Convolutional layer\n",
    "        #2D Convolution, channels: 64, kernel: 3x3\n",
    "        self.conv1 = nn.Conv2d(1, 64, kernel_size = (3, 3), padding = 1)\n",
    "        #2D Batchnorm, channels: 32\n",
    "        self.conv1_bn = nn.BatchNorm2d(64)\n",
    "\n",
    "        \n",
    "        # 2nd Convolutional layer\n",
    "        #2D Convolution, channels (in/out): 128, kernel: 3x3\n",
    "        self.conv2 = nn.Conv2d(64, 128, kernel_size=(3,3), padding = 1)\n",
    "        #2D Batchnorm, channels: 128\n",
    "        self.conv2_bn = nn.BatchNorm2d(128)\n",
    "       \n",
    "        \n",
    "       \n",
    "         # 3rd Convolutional layer\n",
    "        #2D Convolution, channels: 32/32, kernel: 3x3\n",
    "        self.conv3 = nn.Conv2d(128, 128, kernel_size = (3,3), padding = 1)\n",
    "        #2D Batchnorm, channels: 128\n",
    "        self.conv3_bn = nn.BatchNorm2d(128)\n",
    "        ## ELU\n",
    "        # MaxPool layer\n",
    "        \n",
    "        \n",
    "        # 4th Convolutional layer\n",
    "        #2D Convolution, channels: 128/64, kernel: 3x3\n",
    "        self.conv4 = nn.Conv2d(128, 128, kernel_size = (3,3), padding = 1)\n",
    "        #2D Batchnorm, channels: 128\n",
    "        self.conv4_bn = nn.BatchNorm2d(128)\n",
    "        ## ELU\n",
    "        # MaxPool layer\n",
    "        \n",
    "        # 5th Convolutional layer\n",
    "        #2D Convolution, channels: 32/32, kernel: 3x3\n",
    "        self.conv5 = nn.Conv2d(128, 64, kernel_size = (3,3), padding = 1)\n",
    "        #2D Batchnorm, channels: 64\n",
    "        self.conv5_bn = nn.BatchNorm2d(64)\n",
    "        ## ELU\n",
    "        # MaxPool layer\n",
    "        \n",
    "        # output layer\n",
    "        self.dense_out = nn.Linear(64, 50)\n",
    "\n",
    "    def forward(self, x):\n",
    "        x = x.unsqueeze(1)\n",
    "        # YOUR CODE HERE\n",
    "        if self.debug:   #### ADDED\n",
    "          print(\"input layer\")\n",
    "          print(x.shape)\n",
    "        # 1\n",
    "        h = self.conv1(x) # apply convolution\n",
    "        h = self.conv1_bn(h) # apply batch norm\n",
    "        h = torch_func.elu(h)\n",
    "        h = torch_func.max_pool2d(h, kernel_size = (2,4))\n",
    "        if self.debug:   #### ADDED\n",
    "            print(\"first layer\")\n",
    "            print(h.shape)\n",
    "\n",
    "        # 2\n",
    "        h = self.conv2(h) # apply convolution\n",
    "        h = self.conv2_bn(h) # apply batch norm\n",
    "        h = torch_func.elu(h)\n",
    "        h = torch_func.max_pool2d(h, kernel_size = (2,4))\n",
    "        if self.debug:    #### ADDED\n",
    "          print(\"second layer\")\n",
    "          print(h.shape)\n",
    "\n",
    "        # 3\n",
    "        h = self.conv3(h) # apply convolution\n",
    "        h = self.conv3_bn(h) # apply batch norm\n",
    "        h = torch_func.elu(h)\n",
    "        h = torch_func.max_pool2d(h, kernel_size = (2,4))\n",
    "        if self.debug:    #### ADDED\n",
    "          print(\"third layer\")\n",
    "          print(h.shape)\n",
    "\n",
    "        # 4\n",
    "        h = self.conv4(h) # apply convolution\n",
    "        h = self.conv4_bn(h) # apply batch norm\n",
    "        h = torch_func.elu(h)\n",
    "        h = torch_func.max_pool2d(h, kernel_size = (3,5))\n",
    "        if self.debug:    #### ADDED\n",
    "          print(\"fourth layer\")\n",
    "          print(h.shape)\n",
    "\n",
    "        # 5\n",
    "        h = self.conv5(h) # apply convolution\n",
    "        h = self.conv5_bn(h) # apply batch norm\n",
    "        h = torch_func.elu(h)\n",
    "        h = torch_func.max_pool2d(h, kernel_size = (4,4))\n",
    "        if self.debug:    #### ADDED\n",
    "          print(\"fifth layer\")\n",
    "          print(h.shape)\n",
    "        \n",
    "        y = h.view(-1, 64)\n",
    "        y = self.dense_out(y)\n",
    "        y = torch_func.sigmoid(y)\n",
    "        #y = h.view(-1, 50)\n",
    "        if self.debug:    #### ADDED\n",
    "          print(\"output shape\")\n",
    "          print(y.shape)\n",
    "        \n",
    "        \n",
    "        return y"
   ]
  },
  {
   "cell_type": "code",
   "execution_count": 24,
   "metadata": {
    "deletable": false,
    "editable": false,
    "nbgrader": {
     "cell_type": "code",
     "checksum": "b9347d122fe27e193f4337dac27f5f53",
     "grade": true,
     "grade_id": "cell-827a55ef5cfbd4bb",
     "locked": true,
     "points": 5,
     "schema_version": 3,
     "solution": false,
     "task": false
    }
   },
   "outputs": [
    {
     "name": "stdout",
     "output_type": "stream",
     "text": [
      "input layer\n",
      "torch.Size([1, 1, 96, 1366])\n",
      "first layer\n",
      "torch.Size([1, 64, 48, 341])\n",
      "second layer\n",
      "torch.Size([1, 128, 24, 85])\n",
      "third layer\n",
      "torch.Size([1, 128, 12, 21])\n",
      "fourth layer\n",
      "torch.Size([1, 128, 4, 4])\n",
      "fifth layer\n",
      "torch.Size([1, 64, 1, 1])\n",
      "output shape\n",
      "torch.Size([1, 50])\n",
      "input layer\n",
      "torch.Size([20, 1, 96, 1366])\n",
      "first layer\n",
      "torch.Size([20, 64, 48, 341])\n",
      "second layer\n",
      "torch.Size([20, 128, 24, 85])\n",
      "third layer\n",
      "torch.Size([20, 128, 12, 21])\n",
      "fourth layer\n",
      "torch.Size([20, 128, 4, 4])\n",
      "fifth layer\n",
      "torch.Size([20, 64, 1, 1])\n",
      "output shape\n",
      "torch.Size([20, 50])\n",
      "Found modules:\n",
      "1:\tConv2d(1, 64, kernel_size=(3, 3), stride=(1, 1), padding=(1, 1))\n",
      "2:\tBatchNorm2d(64, eps=1e-05, momentum=0.1, affine=True, track_running_stats=True)\n",
      "3:\tConv2d(64, 128, kernel_size=(3, 3), stride=(1, 1), padding=(1, 1))\n",
      "4:\tBatchNorm2d(128, eps=1e-05, momentum=0.1, affine=True, track_running_stats=True)\n",
      "5:\tConv2d(128, 128, kernel_size=(3, 3), stride=(1, 1), padding=(1, 1))\n",
      "6:\tBatchNorm2d(128, eps=1e-05, momentum=0.1, affine=True, track_running_stats=True)\n",
      "7:\tConv2d(128, 128, kernel_size=(3, 3), stride=(1, 1), padding=(1, 1))\n",
      "8:\tBatchNorm2d(128, eps=1e-05, momentum=0.1, affine=True, track_running_stats=True)\n",
      "9:\tConv2d(128, 64, kernel_size=(3, 3), stride=(1, 1), padding=(1, 1))\n",
      "10:\tBatchNorm2d(64, eps=1e-05, momentum=0.1, affine=True, track_running_stats=True)\n",
      "11:\tLinear(in_features=64, out_features=50, bias=True)\n",
      "-----------\n",
      "All tests successful!\n"
     ]
    }
   ],
   "source": [
    "# tests # DO NOT COPY OR MODIFY THIS CELL!!\n",
    "net = MusicTaggerCNN(debug=True)\n",
    "\n",
    "batches = 1\n",
    "output = net.forward(torch.rand(batches, *exp_feat_shape))\n",
    "assert output.shape == (batches, DEFAULT_NUM_CLASSES)\n",
    "batches = 20\n",
    "output = net.forward(torch.rand(batches, *exp_feat_shape))\n",
    "assert output.shape == (batches, DEFAULT_NUM_CLASSES)\n",
    "\n",
    "module_list = net.__dict__['_modules'].values()\n",
    "\n",
    "num_modules = len(module_list)\n",
    "assert num_modules == 11, \"expected 11 modules!\"\n",
    "\n",
    "num_conv2d = 0\n",
    "num_bn2d = 0\n",
    "num_lin = 0\n",
    "# count modules...\n",
    "print(\"Found modules:\")\n",
    "for idx, module in enumerate(module_list):\n",
    "    print(\"{}:\\t{}\".format(idx+1, module))\n",
    "    if isinstance(module, nn.Conv2d):\n",
    "        num_conv2d += 1\n",
    "    if isinstance(module, nn.BatchNorm2d):\n",
    "        num_bn2d += 1\n",
    "    if isinstance(module, nn.Linear):\n",
    "        num_lin += 1\n",
    "print('-----------')\n",
    "\n",
    "assert num_conv2d == 5, \"expected 5 2D convolutional layers!\"\n",
    "assert num_bn2d == 5, \"expected 5 2D batchnorm layers!\"\n",
    "assert num_lin == 1, \"expected 1 dense layers!\"\n",
    "\n",
    "print('All tests successful!')"
   ]
  },
  {
   "cell_type": "markdown",
   "metadata": {
    "deletable": false,
    "editable": false,
    "nbgrader": {
     "cell_type": "markdown",
     "checksum": "4445134c3eabb1a0cc3832fe215f5394",
     "grade": false,
     "grade_id": "cell-7ed9fd4763443ab9",
     "locked": true,
     "schema_version": 3,
     "solution": false,
     "task": false
    }
   },
   "source": [
    "## Task 3: Network Training (10 Points)\n",
    "\n",
    "Train the network using ADAM optimization and binary cross-entropy as loss function.\n",
    "Whenever applicable, you can reuse code you built for assignment 5, if you want.\n",
    "\n",
    "### 3.1 Functions for Training, Testing, and Inference\n",
    "\n",
    "Very similar to assignment 5, **implement the soubroutines below** to make the main training function more readable:"
   ]
  },
  {
   "cell_type": "code",
   "execution_count": 25,
   "metadata": {
    "deletable": false,
    "nbgrader": {
     "cell_type": "code",
     "checksum": "56fb285c80c4d3841558c85afb8b6718",
     "grade": false,
     "grade_id": "cell-270c85061ac5fdbe",
     "locked": false,
     "schema_version": 3,
     "solution": true,
     "task": false
    },
    "revert": "# helper functions for training - you can copy and modify from the last assignment\n\nfrom time import time as get_time\n\n\ndef train_epoch_cnn(model, train_loader, optimizer, args):\n    # performs one epoch of training\n    # YOUR CODE HERE\n    raise NotImplementedError()\n\n\ndef test_cnn(model, test_loader, args):\n    # runs inference over the test dataset and calculates overall loss (for validation and testing)\n    # YOUR CODE HERE\n    raise NotImplementedError()\n    return test_loss\n\n\ndef inference_cnn(model, data, args):\n    # runs inference over a single instance (for actual use of the model on real data)\n    # YOUR CODE HERE\n    raise NotImplementedError()\n    return output"
   },
   "outputs": [],
   "source": [
    "# helper functions for training - you can copy and modify from the last assignment\n",
    "\n",
    "from time import time as get_time\n",
    "\n",
    "\n",
    "def train_epoch_cnn(model, train_loader, optimizer, args):\n",
    "    # performs one epoch of training\n",
    "    model.train()  # set model to training mode (activate dropout layers for example)\n",
    "    t = get_time() # we measure the needed time\n",
    "    for batch_idx, (data, target) in enumerate(train_loader):  # iterate over training data\n",
    "        data, target = data.to(args.device), target.to(args.device)  # move data to device (GPU) if necessary\n",
    "        optimizer.zero_grad()  # reset optimizer\n",
    "        output = model(data)   # forward pass: calculate output of network for input\n",
    "        loss = torch_func.binary_cross_entropy(output, target)  # calculate loss\n",
    "        loss.backward()  # backward pass: calculate gradients using automatic diff. and backprop.\n",
    "        optimizer.step()  # udpate parameters of network using our optimizer\n",
    "        cur_time = get_time()\n",
    "        # print some outputs if we reached our logging intervall\n",
    "        if cur_time - t > args.log_interval or batch_idx == len(train_loader)-1:  \n",
    "            print('[{}/{} ({:.0f}%)]\\tloss: {:.6f}, took {:.2f}s'.format(\n",
    "                       batch_idx * len(data), len(train_loader.dataset),\n",
    "                       100. * batch_idx / len(train_loader), loss.item(),cur_time - t))\n",
    "            t = cur_time\n",
    "\n",
    "\n",
    "\n",
    "\n",
    "def test_cnn(model, test_loader, args):\n",
    "    # runs inference over the test dataset and calculates overall loss (for validation and testing)\n",
    "    # YOUR CODE HERE\n",
    "    model.eval()  # set model to inference mode (deactivate dropout layers for example)\n",
    "    test_loss = 0  # init overall loss\n",
    "    with torch.no_grad():  # do not calculate gradients since we do not want to do updates\n",
    "        for data, target in test_loader:  # iterate over test data\n",
    "            data, target = data.to(args.device), target.to(args.device)  # move data to device \n",
    "            output = model(data) # forward pass\n",
    "            # claculate loss and add it to our cumulative loss\n",
    "            test_loss += torch_func.binary_cross_entropy(output, target, reduction='sum').item()\n",
    "    test_loss /= len(test_loader.dataset)  # calc mean loss\n",
    "    print('Average eval loss: {:.4f}\\n'.format(test_loss, len(test_loader.dataset)))\n",
    "    return test_loss\n",
    "\n",
    "\n",
    "def inference_cnn(model, data, args):\n",
    "   # runs inference over a single instance (for actual use of the model on real data)\n",
    "    model.eval()   # set model to inference mode\n",
    "    # reserve output memory\n",
    "    data_in = torch.from_numpy(data)\n",
    "    data_in = data_in.unsqueeze(0)\n",
    "    data_in = data_in.to(args.device)\n",
    "    \n",
    "    with torch.no_grad():\n",
    "        output = model(data_in).cpu()\n",
    "    \n",
    "    output = output.numpy().squeeze(0)\n",
    "    \n",
    "    return output"
   ]
  },
  {
   "cell_type": "markdown",
   "metadata": {
    "deletable": false,
    "editable": false,
    "nbgrader": {
     "cell_type": "markdown",
     "checksum": "1928d2dca9902ea7e843a2d97f1b932a",
     "grade": false,
     "grade_id": "cell-68a60280cc4bceff",
     "locked": true,
     "schema_version": 3,
     "solution": false,
     "task": false
    }
   },
   "source": [
    "### 3.2 Hyperparameters\n",
    "\n",
    "In this assignment a set of hyperparameters is provided. These should work more or less, so there is no need to invest time for an usable first results. \n",
    "If you feel like it, you can play around with them once you have a running model."
   ]
  },
  {
   "cell_type": "code",
   "execution_count": 26,
   "metadata": {
    "revert": "# training hyper parameters: go with these defaults at first\n\nCNN_MODEL_NAME = 'cnn_tagger_'\n\n# Helper class for neural network hyper-parameters\n# Do not change them until you have a working model\nclass Args:\n    pass\n\nDEFAULT_ARGS = Args()\n# general params\nDEFAULT_ARGS.use_cuda = True\nDEFAULT_ARGS.seed = 1\n\n# architecture setup\nDEFAULT_ARGS.batch_size = 48\nDEFAULT_ARGS.out_num = DEFAULT_NUM_CLASSES\n\n# optimizer parameters\nDEFAULT_ARGS.lr = 0.1\n\n# training protocoll\nDEFAULT_ARGS.max_epochs = 1000\nDEFAULT_ARGS.patience = 3\nDEFAULT_ARGS.refinement = 2  # restart training after patience runs out with the best model, decrease lr by...\nDEFAULT_ARGS.lr_fac = 0.1    # ... the learning rate factor lr_fac: lr_new = lr_old*lr_fac\nDEFAULT_ARGS.log_interval = 10  # seconds"
   },
   "outputs": [],
   "source": [
    "# training hyper parameters: go with these defaults at first\n",
    "\n",
    "CNN_MODEL_NAME = 'cnn_tagger_'\n",
    "\n",
    "# Helper class for neural network hyper-parameters\n",
    "# Do not change them until you have a working model\n",
    "class Args:\n",
    "    pass\n",
    "\n",
    "DEFAULT_ARGS = Args()\n",
    "# general params\n",
    "DEFAULT_ARGS.use_cuda = True\n",
    "DEFAULT_ARGS.seed = 1\n",
    "\n",
    "# architecture setup\n",
    "DEFAULT_ARGS.batch_size = 48\n",
    "DEFAULT_ARGS.out_num = DEFAULT_NUM_CLASSES\n",
    "\n",
    "# optimizer parameters\n",
    "DEFAULT_ARGS.lr = 0.1\n",
    "\n",
    "# training protocoll\n",
    "DEFAULT_ARGS.max_epochs = 1000\n",
    "DEFAULT_ARGS.patience = 3\n",
    "DEFAULT_ARGS.refinement = 2  # restart training after patience runs out with the best model, decrease lr by...\n",
    "DEFAULT_ARGS.lr_fac = 0.1    # ... the learning rate factor lr_fac: lr_new = lr_old*lr_fac\n",
    "DEFAULT_ARGS.log_interval = 10  # seconds"
   ]
  },
  {
   "cell_type": "markdown",
   "metadata": {
    "deletable": false,
    "editable": false,
    "nbgrader": {
     "cell_type": "markdown",
     "checksum": "793efd27c45a154277fd927e6b8299d0",
     "grade": false,
     "grade_id": "cell-fccbc9a438ded054",
     "locked": true,
     "schema_version": 3,
     "solution": false,
     "task": false
    }
   },
   "source": [
    "### 3.3 Main Training Function\n",
    "\n",
    "In the next function, implement the main loop for training the `MusicTaggerCNN` network.\n",
    "For training, you should use an early stopping training protocoll with patience, like we did in assignment 5.\n",
    "You can mostly copy paste what you programmed there.\n",
    "However, this time also implement a learning rate schedule:\n",
    "After patience runs out, reload the best model and reduce the learning rate using the `lr_fac`: `lr_new = lr_old*lr_fac` and reset patience.\n",
    "This is done `arg.refinement` times (we call restarting the training with a reduced training rate a refinement run in this context).\n",
    "To update the learning rate of the optimizer you can use the following code snippet:\n",
    "\n",
    "```\n",
    "for param_group in optimizer.param_groups:\n",
    "        param_group['lr'] = lr\n",
    "```\n",
    "\n",
    "\n",
    "Write the network model to a file, whenever a better validation loss was achieved. If `load_model` is a filename, load the provided file, if it is set to true, load the last trained model (same behaviour as in assignment 5).\n",
    "As optimizer use `torch.optim.Adam`, the default parameters, except learning rate, should be fine.\n",
    "\n",
    "**Note: don't forget to reload the best model after training finishes!**\n",
    "\n",
    "**Implement the missing code parts** in the code cell below."
   ]
  },
  {
   "cell_type": "code",
   "execution_count": 33,
   "metadata": {
    "deletable": false,
    "nbgrader": {
     "cell_type": "code",
     "checksum": "65cd56eda9b8629160c69cf433311a05",
     "grade": false,
     "grade_id": "cell-8937a00f2f650d8e",
     "locked": false,
     "schema_version": 3,
     "solution": true,
     "task": false
    },
    "revert": "# main training loop, start with your implementation from the last assignment and modify to accompany \n# the leraning rate scedule.\n\ndef train_cnn(smoke_test=False, load_model=False, args=DEFAULT_ARGS):\n    \"\"\"\n    Run CNN training using the datasets.\n    :param smoke_test: bool, run a quick pseudo training to check if everything works\n    :param load_model: bool or string, load the last trained model (if set to True), or the model in file (string)\n    :param args: hyperparameters for training\n    :return: trained model\n    \"\"\"\n    if smoke_test:  # set hyperparameters to run a quick pseudo training...\n        max_epochs = 2\n        use_train_feats = train_feats[:2]\n        use_valid_feats = valid_feats[:2]\n        use_test_feats = test_feats[:2]\n    else:\n        max_epochs = args.max_epochs\n        use_train_feats = train_feats\n        use_valid_feats = valid_feats\n        use_test_feats = test_feats\n    \n    # 1) setup pytorch\n    # 2) create model and optimizer, use Adam\n    # 3) setup datasets and loaders for training, evaluation and testing\n    # YOUR CODE HERE\n    raise NotImplementedError()\n    \n    # find model filename for last run, and next free filename for model\n    model_cnt = 0\n    new_model_file = os.path.join(CNN_MODEL_NAME + str(model_cnt) + '.model')\n    last_model_file = None\n    while os.path.exists(new_model_file):\n        model_cnt += 1\n        last_model_file = new_model_file\n        new_model_file = os.path.join(CNN_MODEL_NAME + str(model_cnt) + '.model')\n    if load_model is None or not load_model:  # let's train\n        # train model for max_epochs epochs, output loss after log_intervall seconds.\n        # for each epoch run once on validation set, \n        # write model to disk if validation loss decreased\n        # if validation loss increased, check for early stopping with patience and refinements\n        # after model is trained, perform a run on test set and output loss (don't forget to reload best model!)\n        \n        # YOUR CODE HERE\n        raise NotImplementedError()\n        \n    else:  # we should just load a model...\n        if not isinstance(load_model, str) or not os.path.exists(load_model):\n            load_model = last_model_file\n        if load_model is None or not os.path.exists(load_model):\n            print('Model file not found, unable to load...')\n        else:\n            model.load_state_dict(torch.load(load_model, map_location=args.device))\n            print(\"Model file loaded: {}\".format(load_model))\n    \n    return model\n"
   },
   "outputs": [],
   "source": [
    "# main training loop, start with your implementation from the last assignment and modify to accompany \n",
    "# the leraning rate scedule.\n",
    "\n",
    "def train_cnn(smoke_test=False, load_model=False, args=DEFAULT_ARGS):\n",
    "    \"\"\"\n",
    "    Run CNN training using the datasets.\n",
    "    :param smoke_test: bool, run a quick pseudo training to check if everything works\n",
    "    :param load_model: bool or string, load the last trained model (if set to True), or the model in file (string)\n",
    "    :param args: hyperparameters for training\n",
    "    :return: trained model\n",
    "    \"\"\"\n",
    "    if smoke_test:  # set hyperparameters to run a quick pseudo training...\n",
    "        max_epochs = 2\n",
    "        use_train_feats = train_feats[:2]\n",
    "        use_valid_feats = valid_feats[:2]\n",
    "        use_test_feats = test_feats[:2]\n",
    "    else:\n",
    "        max_epochs = args.max_epochs\n",
    "        use_train_feats = train_feats\n",
    "        use_valid_feats = valid_feats\n",
    "        use_test_feats = test_feats\n",
    "    \n",
    "    # 1) setup pytorch\n",
    "    # 2) create model and optimizer, use Adam\n",
    "    # 3) setup datasets and loaders for training, evaluation and testing\n",
    "    # YOUR CODE HERE\n",
    "    # setup pytorch\n",
    "    use_cuda = args.use_cuda and torch.cuda.is_available()\n",
    "    torch.manual_seed(args.seed)\n",
    "    args.device = torch.device(\"cuda\" if use_cuda else \"cpu\")\n",
    "    \n",
    "    from torch.optim import Adam\n",
    "    \n",
    "    model = MusicTaggerCNN().to(args.device)\n",
    "    optimizer = Adam(model.parameters(), lr=args.lr)\n",
    "    \n",
    "    # setup our datasets for training, evaluation and testing\n",
    "    kwargs = {'num_workers': 2, 'pin_memory': True} if use_cuda else {'num_workers': 0}\n",
    "    train_loader = torch.utils.data.DataLoader(MagnaSet(use_train_feats, train_targs),\n",
    "                                               batch_size=args.batch_size, shuffle=True, **kwargs)\n",
    "    valid_loader = torch.utils.data.DataLoader(MagnaSet(use_valid_feats, valid_targs),\n",
    "                                               batch_size=args.batch_size, shuffle=False, **kwargs)\n",
    "    test_loader = torch.utils.data.DataLoader(MagnaSet(use_test_feats, test_targs),\n",
    "                                              batch_size=args.batch_size, shuffle=False, **kwargs)\n",
    "    \n",
    "    # find model filename for last run, and next free filename for model\n",
    "    model_cnt = 0\n",
    "    new_model_file = os.path.join(CNN_MODEL_NAME + str(model_cnt) + '.model')\n",
    "    last_model_file = None\n",
    "    while os.path.exists(new_model_file):\n",
    "        model_cnt += 1\n",
    "        last_model_file = new_model_file\n",
    "        new_model_file = os.path.join(CNN_MODEL_NAME + str(model_cnt) + '.model')\n",
    "    if load_model is None or not load_model:  # let's train\n",
    "        # train model for max_epochs epochs, output loss after log_intervall seconds.\n",
    "        # for each epoch run once on validation set, \n",
    "        # write model to disk if validation loss decreased\n",
    "        # if validation loss increased, check for early stopping with patience and refinements\n",
    "        # after model is trained, perform a run on test set and output loss (don't forget to reload best model!)\n",
    "        \n",
    "        # YOUR CODE HERE\n",
    "        best_valid_loss = 9999.  # let's init it with something really large - loss will be << 1 usually\n",
    "        cur_patience = args.patience  # we keep track of our patience here.\n",
    "        cur_refinement = args.refinement\n",
    "        refine = True\n",
    "        print('Training CNN...')\n",
    "        start_t = get_time()\n",
    "        \n",
    "        while(refine):\n",
    "            for epoch in range(max_epochs):\n",
    "                print(epoch)\n",
    "                train_epoch_cnn(model, train_loader, optimizer, args)\n",
    "            \n",
    "                valid_loss = test_cnn(model, valid_loader, args)\n",
    "            \n",
    "                if((get_time() - start_t) > args.log_interval):\n",
    "                    print(\"validation loss is: \" + str(valid_loss) )\n",
    "            \n",
    "                if(valid_loss < best_valid_loss):\n",
    "                    if(smoke_test == False):\n",
    "                        torch.save(model, new_model_file)\n",
    "                    best_valid_loss = valid_loss\n",
    "                    cur_patience = args.patience\n",
    "                else:\n",
    "                    if(cur_patience <= 0):\n",
    "                        print(\"out of patience\")\n",
    "\n",
    "                        if(cur_refinement > 0 and smoke_test == False):\n",
    "                            print(\"restarting training\")\n",
    "                            for param_group in optimizer.param_groups:\n",
    "                                last_lr = param_group['lr']\n",
    "                                param_group['lr'] = last_lr * args.lr_fac\n",
    "                            model = torch.load(new_model_file)\n",
    "                            cur_refinement -= 1\n",
    "                            cur_patience = args.patience\n",
    "                        else:\n",
    "                            refine = False\n",
    "\n",
    "                        break\n",
    "                    else:\n",
    "                        print(\"training on, epoch: \" + str(epoch))\n",
    "                        #print(cur_patience)\n",
    "                        cur_patience = cur_patience - 1\n",
    "                    \n",
    "            \n",
    "        print('Trainig took: {:.2f}s for {} epochs'.format(get_time()-start_t, epoch))\n",
    "        \n",
    "        print('Testing...')\n",
    "        # Call test_cnn using the test_loader to calculate the loss on the test dataset\n",
    "        # YOUR CODE HERE\n",
    "        if(smoke_test == False):\n",
    "          model = torch.load(new_model_file)\n",
    "        \n",
    "        test_loss = test_cnn(model, test_loader, args)\n",
    "        print(\"Testing loss is: \" + str(test_loss))\n",
    "\n",
    "        # Saving the model\n",
    "        torch.save(model.state_dict(), new_model_file)\n",
    "        print(\"Model's state_dict() saved!\")\n",
    "\n",
    "        \n",
    "    else:  # we should just load a model...\n",
    "        if not isinstance(load_model, str) or not os.path.exists(load_model):\n",
    "            # We change it in order to get the uploaded model from google collab implementation\n",
    "            load_model = \"best_cnn_adt.model\"\n",
    "        if load_model is None or not os.path.exists(load_model):\n",
    "            print('Model file not found, unable to load...')\n",
    "        else:\n",
    "            model.load_state_dict(torch.load(load_model, map_location=args.device))\n",
    "            print(\"Model file loaded: {}\".format(load_model))\n",
    "        \n",
    "    return model\n"
   ]
  },
  {
   "cell_type": "markdown",
   "metadata": {
    "deletable": false,
    "editable": false,
    "nbgrader": {
     "cell_type": "markdown",
     "checksum": "e91f7e991b2434b44c4b8b91c99ab64a",
     "grade": false,
     "grade_id": "cell-117f002acba1864e",
     "locked": true,
     "schema_version": 3,
     "solution": false,
     "task": false
    }
   },
   "source": [
    "Run the smoke test first, to make sure everything is ok:"
   ]
  },
  {
   "cell_type": "code",
   "execution_count": 34,
   "metadata": {
    "deletable": false,
    "editable": false,
    "nbgrader": {
     "cell_type": "code",
     "checksum": "0778b6c7ba29c716272d41b2977db81c",
     "grade": true,
     "grade_id": "cell-dc3fc247439670b2",
     "locked": true,
     "points": 10,
     "schema_version": 3,
     "solution": false,
     "task": false
    }
   },
   "outputs": [
    {
     "name": "stdout",
     "output_type": "stream",
     "text": [
      "Training CNN...\n",
      "0\n",
      "[0/2 (0%)]\tloss: 0.871511, took 0.76s\n",
      "Average eval loss: 600.0000\n",
      "\n",
      "1\n",
      "[0/2 (0%)]\tloss: 0.163902, took 0.66s\n",
      "Average eval loss: 500.0000\n",
      "\n",
      "0\n",
      "[0/2 (0%)]\tloss: 0.080197, took 0.62s\n",
      "Average eval loss: 400.0000\n",
      "\n",
      "1\n",
      "[0/2 (0%)]\tloss: 0.073892, took 0.65s\n",
      "Average eval loss: 400.0000\n",
      "\n",
      "training on, epoch: 1\n",
      "0\n",
      "[0/2 (0%)]\tloss: 0.036123, took 0.76s\n",
      "Average eval loss: 355.3882\n",
      "\n",
      "1\n",
      "[0/2 (0%)]\tloss: 0.016946, took 0.81s\n",
      "Average eval loss: 405.8192\n",
      "\n",
      "training on, epoch: 1\n",
      "0\n",
      "[0/2 (0%)]\tloss: 0.013326, took 0.71s\n",
      "Average eval loss: 407.9712\n",
      "\n",
      "training on, epoch: 0\n",
      "1\n",
      "[0/2 (0%)]\tloss: 0.007592, took 0.92s\n",
      "Average eval loss: 406.9315\n",
      "\n",
      "training on, epoch: 1\n",
      "0\n",
      "[0/2 (0%)]\tloss: 0.003902, took 0.76s\n",
      "Average eval loss: 405.9585\n",
      "\n",
      "out of patience\n",
      "Trainig took: 9.27s for 0 epochs\n",
      "Testing...\n",
      "Average eval loss: 375.8892\n",
      "\n",
      "Testing loss is: 375.8891906738281\n",
      "Model's state_dict() saved!\n",
      "All tests successful!\n"
     ]
    }
   ],
   "source": [
    "# tests\n",
    "\n",
    "model = train_cnn(smoke_test=True)  # just a quick run to check everything is working\n",
    "\n",
    "print('All tests successful!')"
   ]
  },
  {
   "cell_type": "markdown",
   "metadata": {
    "deletable": false,
    "editable": false,
    "nbgrader": {
     "cell_type": "markdown",
     "checksum": "1b46667a772475897924af66daccb36e",
     "grade": false,
     "grade_id": "cell-6455c9ed1bc34764",
     "locked": true,
     "schema_version": 3,
     "solution": false,
     "task": false
    }
   },
   "source": [
    "### 3.4 Train Run\n",
    "Now that everything works, run the training for real.\n",
    "Execute the next cells to start a network training. Be aware that on JupyterHub, **a full training run will take around 24h.**\n",
    "As mentioned in the beginning of the notebook, you are free to run the notebook on CUDA enabled infrastructure e.g. on google colab, on which the training will run much faster.\n",
    "\n",
    "**ATTENTION**: For the submitted version, we only want to load the already trained model, so you have to set the switch below (SUBMISSION) to `True`! Additionally, make sure no new training is started when executing the final version before submission!!"
   ]
  },
  {
   "cell_type": "code",
   "execution_count": 35,
   "metadata": {
    "revert": "SUBMISSION = False"
   },
   "outputs": [],
   "source": [
    "SUBMISSION = True"
   ]
  },
  {
   "cell_type": "code",
   "execution_count": 36,
   "metadata": {
    "deletable": false,
    "editable": false,
    "nbgrader": {
     "cell_type": "code",
     "checksum": "260fd6488dfc7b41d1e6ead35a7d231e",
     "grade": true,
     "grade_id": "cell-1587da57b1fc0382",
     "locked": true,
     "points": 0,
     "schema_version": 3,
     "solution": false,
     "task": false
    }
   },
   "outputs": [],
   "source": [
    "# tests # DO NOT COPY OR MODIFY THIS CELL!!"
   ]
  },
  {
   "cell_type": "code",
   "execution_count": 37,
   "metadata": {
    "revert": "if not SUBMISSION:\n    model = train_cnn()\nelse:\n    model = train_cnn(load_model=True)\n    # you can set a specific model file for submission, if you trained multiple models using e.g.:\n    # load_model='best_cnn_adt.model'"
   },
   "outputs": [
    {
     "name": "stdout",
     "output_type": "stream",
     "text": [
      "Model file loaded: best_cnn_adt.model\n"
     ]
    }
   ],
   "source": [
    "if not SUBMISSION:\n",
    "    model = train_cnn()\n",
    "else:\n",
    "    model = train_cnn(load_model=True)\n",
    "    # you can set a specific model file for submission, if you trained multiple models using e.g.:\n",
    "    # load_model='best_cnn_adt.model'"
   ]
  },
  {
   "cell_type": "markdown",
   "metadata": {
    "deletable": false,
    "editable": false,
    "nbgrader": {
     "cell_type": "markdown",
     "checksum": "70fd05555733407f8e8ba28ec927cfd9",
     "grade": false,
     "grade_id": "cell-055d123bc9c2fdd8",
     "locked": true,
     "schema_version": 3,
     "solution": false,
     "task": false
    }
   },
   "source": [
    "## Task 4: Inference on Test Data (5 Points)\n",
    "Now that we have a trained model, we want to use it to do audio tagging. In order to do this, we have to apply the model on a the extracted features.\n",
    "Since we are interested in calculating the area-under-curve (AUC) for the receiver operating characteristic (ROC, true-positive-rate v.s. false-positive-rate plot for different detection thresholds), return the raw class probabilities (direct sigmoid outputs), instead of the thresholded classes."
   ]
  },
  {
   "cell_type": "code",
   "execution_count": 41,
   "metadata": {
    "deletable": false,
    "nbgrader": {
     "cell_type": "code",
     "checksum": "f5522b3b2f51da5ae67717e606217fb1",
     "grade": false,
     "grade_id": "cell-b7e671b8b07acf8f",
     "locked": false,
     "schema_version": 3,
     "solution": true,
     "task": false
    },
    "revert": "def extract_tags_for_all(model, feats, args=DEFAULT_ARGS):\n    detection_list = []\n    # YOUR CODE HERE\n    raise NotImplementedError()\n    return np.asarray(detection_list)\n\nprint(len(test_feats))"
   },
   "outputs": [],
   "source": [
    "def extract_tags_for_all(model, feats, args=DEFAULT_ARGS):\n",
    "    detection_list = []\n",
    "    # YOUR CODE HERE\n",
    "    # raise NotImplementedError()\n",
    "    for f in feats: \n",
    "      detection_list.append(inference_cnn(model, f, args))\n",
    "\n",
    "    return np.asarray(detection_list)\n"
   ]
  },
  {
   "cell_type": "code",
   "execution_count": 39,
   "metadata": {
    "deletable": false,
    "editable": false,
    "nbgrader": {
     "cell_type": "code",
     "checksum": "46ad309326ebc9fa9f50b7cdc9969375",
     "grade": false,
     "grade_id": "cell-724574e6819def5a",
     "locked": true,
     "schema_version": 3,
     "solution": false,
     "task": false
    }
   },
   "outputs": [
    {
     "name": "stdout",
     "output_type": "stream",
     "text": [
      "Time used for tag estimation: 175.9 seconds.\n"
     ]
    }
   ],
   "source": [
    "t1 = get_time()\n",
    "detected_tags = extract_tags_for_all(model, test_feats)\n",
    "print(\"Time used for tag estimation: {:.1f} seconds.\".format(get_time()-t1))\n",
    "test_targs = np.asarray(test_targs)"
   ]
  },
  {
   "cell_type": "code",
   "execution_count": 40,
   "metadata": {
    "deletable": false,
    "editable": false,
    "nbgrader": {
     "cell_type": "code",
     "checksum": "d8d9bec7db013960281560aaeb330179",
     "grade": true,
     "grade_id": "cell-23511d0abe598ede",
     "locked": true,
     "points": 3,
     "schema_version": 3,
     "solution": false,
     "task": false
    }
   },
   "outputs": [
    {
     "name": "stdout",
     "output_type": "stream",
     "text": [
      "All tests successful!\n"
     ]
    }
   ],
   "source": [
    "# tests # DO NOT COPY OR MODIFY THIS CELL!!\n",
    "\n",
    "assert len(detected_tags) == len(test_feats), \"generate detections for all test samples!!\"\n",
    "\n",
    "assert 0.0 < np.median(detected_tags) < 1.0, \"return sigmoid outputs, without applying a threshold!!\"\n",
    "\n",
    "print('All tests successful!')"
   ]
  },
  {
   "cell_type": "markdown",
   "metadata": {
    "deletable": false,
    "editable": false,
    "nbgrader": {
     "cell_type": "markdown",
     "checksum": "a723bc081f0e0bbd7aa911af5bf96b41",
     "grade": false,
     "grade_id": "cell-c25215e093ae1c6f",
     "locked": true,
     "schema_version": 3,
     "solution": false,
     "task": false
    }
   },
   "source": [
    "### 4.1 Plot Prediction\n",
    "Create a visual representation of the predicted class activations for an example of the test data, and compare it to the true labels."
   ]
  },
  {
   "cell_type": "code",
   "execution_count": 42,
   "metadata": {
    "deletable": false,
    "nbgrader": {
     "cell_type": "code",
     "checksum": "f362d62a5cbd002a4739c8c171a38315",
     "grade": false,
     "grade_id": "cell-4b0dc3bf28370adb",
     "locked": false,
     "schema_version": 3,
     "solution": true,
     "task": false
    },
    "revert": "# visual inspection, plot an activation vector v.s. the true labels as a bar chart or similar.\n\nsample_idx = 44  # you can play around with this value :)\n\n# YOUR CODE HERE\nraise NotImplementedError()"
   },
   "outputs": [
    {
     "data": {
      "image/png": "[encoded data removed]",
      "text/plain": [
       "<Figure size 2000x1000 with 1 Axes>"
      ]
     },
     "metadata": {},
     "output_type": "display_data"
    }
   ],
   "source": [
    "# visual inspection, plot an activation vector v.s. the true labels as a bar chart or similar.\n",
    "\n",
    "import matplotlib.pyplot as plt\n",
    "\n",
    "sample_idx = 44  # you can play around with this value :)\n",
    "\n",
    "activation = detected_tags[sample_idx]\n",
    "true_labels = test_targs[sample_idx]\n",
    "\n",
    "# YOUR CODE HERE\n",
    "figure, axis = plt.subplots(figsize=(20,10))\n",
    "\n",
    "plt.plot(range(len(true_labels)), activation, label=\"Activation Vectors\")\n",
    "plt.bar(range(len(true_labels)), height=1.0, width=0.05, color='green')\n",
    "\n",
    "axis.set_xticks(range(len(true_labels)))\n",
    "axis.set_xticklabels(class_names, rotation = 90)\n",
    "\n",
    "plt.show()"
   ]
  },
  {
   "cell_type": "code",
   "execution_count": null,
   "metadata": {
    "deletable": false,
    "editable": false,
    "nbgrader": {
     "cell_type": "code",
     "checksum": "298b335028f9ac3b811a79fad72196ef",
     "grade": true,
     "grade_id": "cell-d1edab0d3d5652c7",
     "locked": true,
     "points": 2,
     "schema_version": 3,
     "solution": false,
     "task": false
    }
   },
   "outputs": [],
   "source": [
    "# tests # DO NOT COPY OR MODIFY THIS CELL!!"
   ]
  },
  {
   "cell_type": "markdown",
   "metadata": {
    "deletable": false,
    "editable": false,
    "nbgrader": {
     "cell_type": "markdown",
     "checksum": "24763b990acc38fcc1448b1bd3365738",
     "grade": false,
     "grade_id": "cell-9383b897d03184e3",
     "locked": true,
     "schema_version": 3,
     "solution": false,
     "task": false
    }
   },
   "source": [
    "## Task 5: Evaluation (10 Points)\n",
    "\n",
    "### 5.1 AOC of ROC\n",
    "\n",
    "Use the detections and targets of the test set to estimate the performance of the trained network using area-under-curve of the ROC (you can use the sklearn implementations). \n"
   ]
  },
  {
   "cell_type": "code",
   "execution_count": 47,
   "metadata": {
    "deletable": false,
    "nbgrader": {
     "cell_type": "code",
     "checksum": "b5eee445c1e4754dacb03e9603cc6978",
     "grade": false,
     "grade_id": "cell-14f8f5030f935262",
     "locked": false,
     "schema_version": 3,
     "solution": true,
     "task": false
    },
    "revert": "def calc_roc_auc(true_tags, detected_tags, num_classes):\n    # Calculate true positive (tpr) and false positive rates (fpr) for applicable thresholds and compute \n    # ROC curve and area under ROC curve. \n    # Since we have a multi-label setup, use micro-average evaluation: count true and false positives for all \n    # classes and all instances, and then calculate the metrics.\n    # To get an exhaustive list of thresholds that will result in different values for tpr and fpr, it is most \n    # efficient to use unique values of the detected probabilities. However, you do not have to worry about the \n    # thresholds if you use the sklearn functions.\n    \n    # YOUR CODE HERE\n    raise NotImplementedError()\n    # return area under curve, true positive rates, and false positive rates (we will use them for plotting)\n    return micro_roc_auc, micro_tpr, micro_fpr\n"
   },
   "outputs": [],
   "source": [
    "from sklearn.metrics import roc_curve, auc\n",
    "\n",
    "def calc_roc_auc(true_tags, detected_tags, num_classes):\n",
    "    # Calculate true positive (tpr) and false positive rates (fpr) for applicable thresholds and compute \n",
    "    # ROC curve and area under ROC curve. \n",
    "    # Since we have a multi-label setup, use micro-average evaluation: count true and false positives for all \n",
    "    # classes and all instances, and then calculate the metrics.\n",
    "    # To get an exhaustive list of thresholds that will result in different values for tpr and fpr, it is most \n",
    "    # efficient to use unique values of the detected probabilities. However, you do not have to worry about the \n",
    "    # thresholds if you use the sklearn functions.\n",
    "    \n",
    "    # YOUR CODE HERE\n",
    "    true_tags = true_tags.astype(np.int64)\n",
    "\n",
    "    micro_fpr, micro_tpr, n = roc_curve(true_tags.ravel(), detected_tags.ravel())\n",
    "\n",
    "    micro_roc_auc = auc(micro_fpr, micro_tpr)\n",
    "\n",
    "    # return area under curve, true positive rates, and false positive rates (we will use them for plotting)\n",
    "    return micro_roc_auc, micro_tpr, micro_fpr\n",
    "\n"
   ]
  },
  {
   "cell_type": "code",
   "execution_count": 48,
   "metadata": {
    "deletable": false,
    "editable": false,
    "nbgrader": {
     "cell_type": "code",
     "checksum": "14972d688a3c261a09fe8e6ec58257a8",
     "grade": false,
     "grade_id": "cell-93c8bd9f0f0d9a13",
     "locked": true,
     "schema_version": 3,
     "solution": false,
     "task": false
    }
   },
   "outputs": [
    {
     "name": "stdout",
     "output_type": "stream",
     "text": [
      "Final AOC-ROC score of trained model: 0.8999932180668282\n"
     ]
    }
   ],
   "source": [
    "final_score, micro_tpr, micro_fpr = calc_roc_auc(test_targs, detected_tags, len(class_names))\n",
    "print(f'Final AOC-ROC score of trained model: {final_score}')"
   ]
  },
  {
   "cell_type": "code",
   "execution_count": 49,
   "metadata": {
    "deletable": false,
    "editable": false,
    "nbgrader": {
     "cell_type": "code",
     "checksum": "376e783f49f85fb4335d88e31dadd438",
     "grade": true,
     "grade_id": "cell-bc71f08913607d11",
     "locked": true,
     "points": 5,
     "schema_version": 3,
     "solution": false,
     "task": false
    }
   },
   "outputs": [
    {
     "name": "stdout",
     "output_type": "stream",
     "text": [
      "Public tests successful!\n",
      "score = 2.0\n"
     ]
    },
    {
     "data": {
      "text/plain": [
       "2.0"
      ]
     },
     "execution_count": 49,
     "metadata": {},
     "output_type": "execute_result"
    }
   ],
   "source": [
    "# tests # DO NOT COPY OR MODIFY THIS CELL!!\n",
    "\n",
    "# you should be able to achieve this AOC score\n",
    "assert final_score > 0.8\n",
    "\n",
    "print('Public tests successful!')\n",
    "score = 2.0\n",
    "print(f\"score = {score}\")\n",
    "score"
   ]
  },
  {
   "cell_type": "markdown",
   "metadata": {
    "deletable": false,
    "editable": false,
    "nbgrader": {
     "cell_type": "markdown",
     "checksum": "4e79cefca2d6a4428cb9b71adfaa7f21",
     "grade": false,
     "grade_id": "cell-28ce1486130b5e5c",
     "locked": true,
     "schema_version": 3,
     "solution": false,
     "task": false
    }
   },
   "source": [
    "### 5.2 Plot ROC\n",
    "\n",
    "Plot an ROC curve for micro-average evaluation of the test detections. The values for the test detections should have been saved in `final_score`, `micro_tpr`, and `micro_fpr` in the previous cells."
   ]
  },
  {
   "cell_type": "code",
   "execution_count": 50,
   "metadata": {
    "deletable": false,
    "nbgrader": {
     "cell_type": "code",
     "checksum": "285c916bce8c8f1e64622ac8f770d3c8",
     "grade": false,
     "grade_id": "cell-a8349ff3553e8bce",
     "locked": false,
     "schema_version": 3,
     "solution": true,
     "task": false
    },
    "revert": "def plot_roc_for_class(fpr, tpr, roc_auc):\n    import matplotlib.pyplot as plt\n    plt.figure()\n    # YOUR CODE HERE\n    raise NotImplementedError()\n    plt.show()"
   },
   "outputs": [],
   "source": [
    "def plot_roc_for_class(fpr, tpr, roc_auc):\n",
    "    import matplotlib.pyplot as plt\n",
    "    plt.figure()\n",
    "    # YOUR CODE HERE\n",
    "    plt.plot([0,1], [0,1], linestyle='solid')\n",
    "\n",
    "    plt.plot(fpr, tpr, label=('ROC: {:.3f}'.format(roc_auc)))\n",
    "    plt.xlabel('FP Rate')\n",
    "    plt.ylabel('TP Rate')\n",
    "    plt.legend()\n",
    "    plt.show()"
   ]
  },
  {
   "cell_type": "code",
   "execution_count": 51,
   "metadata": {
    "deletable": false,
    "editable": false,
    "nbgrader": {
     "cell_type": "code",
     "checksum": "d7bce58abccec5721559e5878b226673",
     "grade": false,
     "grade_id": "cell-8d940bfc3175431b",
     "locked": true,
     "schema_version": 3,
     "solution": false,
     "task": false
    }
   },
   "outputs": [
    {
     "data": {
      "image/png": "[encoded data removed]",
      "text/plain": [
       "<Figure size 640x480 with 1 Axes>"
      ]
     },
     "metadata": {},
     "output_type": "display_data"
    }
   ],
   "source": [
    "plot_roc_for_class(micro_fpr, micro_tpr, final_score)"
   ]
  },
  {
   "cell_type": "code",
   "execution_count": 52,
   "metadata": {
    "deletable": false,
    "editable": false,
    "nbgrader": {
     "cell_type": "code",
     "checksum": "43649125271fadea697bc995ea5b09bf",
     "grade": true,
     "grade_id": "cell-b7abcf1de5115831",
     "locked": true,
     "points": 5,
     "schema_version": 3,
     "solution": false,
     "task": false
    }
   },
   "outputs": [],
   "source": [
    "# tests # DO NOT COPY OR MODIFY THIS CELL!!\n"
   ]
  },
  {
   "cell_type": "markdown",
   "metadata": {
    "revert": "## Congratulations, you are done!\n\nReminder:\nBefore you turn this assignment in, make sure everything runs as expected. First, **restart the kernel** (in the menubar, select Kernel$\\rightarrow$Restart) and then **run all cells** (in the menubar, select Cell$\\rightarrow$Run All)."
   },
   "source": [
    "## Congratulations, you are done!\n",
    "\n",
    "Reminder:\n",
    "Before you turn this assignment in, make sure everything runs as expected. First, **restart the kernel** (in the menubar, select Kernel$\\rightarrow$Restart) and then **run all cells** (in the menubar, select Cell$\\rightarrow$Run All)."
   ]
  }
 ],
 "metadata": {
  "kernelspec": {
   "display_name": "Python 3 (ipykernel)",
   "language": "python",
   "name": "python3"
  },
  "language_info": {
   "codemirror_mode": {
    "name": "ipython",
    "version": 3
   },
   "file_extension": ".py",
   "mimetype": "text/x-python",
   "name": "python",
   "nbconvert_exporter": "python",
   "pygments_lexer": "ipython3",
   "version": "3.10.12"
  }
 },
 "nbformat": 4,
 "nbformat_minor": 4
}
